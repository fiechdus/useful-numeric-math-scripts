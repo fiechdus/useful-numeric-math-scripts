{
 "cells": [
  {
   "cell_type": "code",
   "execution_count": 5,
   "id": "initial_id",
   "metadata": {
    "collapsed": true,
    "ExecuteTime": {
     "end_time": "2024-01-02T21:18:38.590998400Z",
     "start_time": "2024-01-02T21:18:37.425111Z"
    }
   },
   "outputs": [],
   "source": [
    "import numpy as np"
   ]
  },
  {
   "cell_type": "markdown",
   "source": [
    "### Normen berechnen \n",
    " Die unendliche Norm.   "
   ],
   "metadata": {
    "collapsed": false
   },
   "id": "ba402ab8c50fa388"
  },
  {
   "cell_type": "code",
   "execution_count": 6,
   "outputs": [
    {
     "name": "stdout",
     "output_type": "stream",
     "text": [
      "Matrix unendlich: 10.0\n",
      "Vektor unendlich: 3.0\n"
     ]
    }
   ],
   "source": [
    "matrixInf = np.array([\n",
    "     [1., 1., 0.], \n",
    "     [3., -5., 2.],  \n",
    "     [1., -1., 3.], \n",
    "    ])\n",
    "\n",
    "vektorInf = np.array([1., 2., 3.])\n",
    "\n",
    "norm_m = np.linalg.norm(matrixInf, np.inf)\n",
    "norm_v = np.linalg.norm(vektorInf, np.inf)\n",
    "print(\"Matrix unendlich:\", norm_m)\n",
    "print(\"Vektor unendlich:\", norm_v)"
   ],
   "metadata": {
    "collapsed": false,
    "ExecuteTime": {
     "end_time": "2024-01-02T21:18:38.714078Z",
     "start_time": "2024-01-02T21:18:38.117889Z"
    }
   },
   "id": "5d73410b576ca71a"
  },
  {
   "cell_type": "markdown",
   "source": [
    "Die erste Norm."
   ],
   "metadata": {
    "collapsed": false
   },
   "id": "dbe7730e754d7852"
  },
  {
   "cell_type": "code",
   "execution_count": 7,
   "outputs": [
    {
     "name": "stdout",
     "output_type": "stream",
     "text": [
      "Matrix erste: 7.0\n",
      "Vektor erste: 6.0\n"
     ]
    }
   ],
   "source": [
    "matrix1 = np.array([\n",
    "     [1., 1., 0.], \n",
    "     [3., -5., 2.],  \n",
    "     [1., -1., 3.], \n",
    "    ])\n",
    "\n",
    "vektor1 = np.array([1., 2., 3.])\n",
    "\n",
    "norm1_m = np.linalg.norm(matrix1, 1)\n",
    "norm1_v = np.linalg.norm(vektor1, 1)\n",
    "print(\"Matrix erste:\", norm1_m)\n",
    "print(\"Vektor erste:\", norm1_v)"
   ],
   "metadata": {
    "collapsed": false,
    "ExecuteTime": {
     "end_time": "2024-01-02T21:18:38.716080400Z",
     "start_time": "2024-01-02T21:18:38.573001500Z"
    }
   },
   "id": "ee4cc760ae05d267"
  },
  {
   "cell_type": "markdown",
   "source": [
    "Die zweite Norm."
   ],
   "metadata": {
    "collapsed": false
   },
   "id": "68dd8199ded69259"
  },
  {
   "cell_type": "code",
   "execution_count": 8,
   "outputs": [
    {
     "name": "stdout",
     "output_type": "stream",
     "text": [
      "Matrix zweite: 6.635457583388184\n",
      "Vektor zweite: 3.7416573867739413\n"
     ]
    }
   ],
   "source": [
    "matrix2 = np.array([\n",
    "     [1., 1., 0.], \n",
    "     [3., -5., 2.],  \n",
    "     [1., -1., 3.], \n",
    "    ])\n",
    "\n",
    "vektor2 = np.array([1., 2., 3.])\n",
    "\n",
    "norm2_m = np.linalg.norm(matrix2, 2)\n",
    "norm2_v = np.linalg.norm(vektor2, 2)\n",
    "print(\"Matrix zweite:\", norm2_m)\n",
    "print(\"Vektor zweite:\", norm2_v)"
   ],
   "metadata": {
    "collapsed": false,
    "ExecuteTime": {
     "end_time": "2024-01-02T21:18:38.889652200Z",
     "start_time": "2024-01-02T21:18:38.698561800Z"
    }
   },
   "id": "9b94f37f52d1ca95"
  }
 ],
 "metadata": {
  "kernelspec": {
   "display_name": "Python 3",
   "language": "python",
   "name": "python3"
  },
  "language_info": {
   "codemirror_mode": {
    "name": "ipython",
    "version": 2
   },
   "file_extension": ".py",
   "mimetype": "text/x-python",
   "name": "python",
   "nbconvert_exporter": "python",
   "pygments_lexer": "ipython2",
   "version": "2.7.6"
  }
 },
 "nbformat": 4,
 "nbformat_minor": 5
}
