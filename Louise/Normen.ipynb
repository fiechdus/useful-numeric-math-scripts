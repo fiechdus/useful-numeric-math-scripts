{
 "cells": [
  {
   "cell_type": "code",
   "execution_count": 20,
   "id": "initial_id",
   "metadata": {
    "collapsed": true,
    "ExecuteTime": {
     "end_time": "2024-01-09T18:25:16.422285300Z",
     "start_time": "2024-01-09T18:25:16.318666300Z"
    }
   },
   "outputs": [],
   "source": [
    "import numpy as np\n",
    "import sympy as sp"
   ]
  },
  {
   "cell_type": "markdown",
   "source": [
    "### Normen berechnen \n",
    " Die unendliche Norm.\n",
    " $$\\|A\\|_{\\infty} = \\max_{1 \\leq i \\leq n} \\sum_{j=1}^n |a_{ij}|$$\n",
    " $$\\|x\\|_{\\infty} = \\max_{1 \\leq i \\leq n} |x_i|$$"
   ],
   "metadata": {
    "collapsed": false
   },
   "id": "ba402ab8c50fa388"
  },
  {
   "cell_type": "code",
   "execution_count": 21,
   "outputs": [
    {
     "name": "stdout",
     "output_type": "stream",
     "text": [
      "Matrix unendlich: 10.0\n",
      "Matrix mit Variabeln unendlich: Max(0.5, 30/Abs(a))\n",
      "Vektor unendlich: 3.0\n"
     ]
    }
   ],
   "source": [
    "matrixInf = np.array([\n",
    "     [1., 1., 0.], \n",
    "     [3., -5., 2.],  \n",
    "     [1., -1., 3.], \n",
    "    ])\n",
    "\n",
    "a = sp.Symbol('a')\n",
    "\n",
    "matrixInf_mitVar = sp.Matrix([\n",
    "     [0., 1/3, 1/6], \n",
    "     [10/a, 0, 20/a],  \n",
    "     [1/10, 2/5, 0], \n",
    "    ])\n",
    "\n",
    "vektorInf = np.array([1., 2., 3.])\n",
    "\n",
    "norm_m = np.linalg.norm(matrixInf, np.inf)\n",
    "norm_v = np.linalg.norm(vektorInf, np.inf)\n",
    "norm_mVar = matrixInf_mitVar.norm(sp.oo) \n",
    "print(\"Matrix unendlich:\", norm_m)\n",
    "print(\"Matrix mit Variabeln unendlich:\", norm_mVar)\n",
    "print(\"Vektor unendlich:\", norm_v)"
   ],
   "metadata": {
    "collapsed": false,
    "ExecuteTime": {
     "end_time": "2024-01-09T18:25:16.636443200Z",
     "start_time": "2024-01-09T18:25:16.464814600Z"
    }
   },
   "id": "5d73410b576ca71a"
  },
  {
   "cell_type": "markdown",
   "source": [
    "Die erste Norm.\n",
    "$$\\|A\\|_{1} = \\max_{1 \\leq j \\leq n} \\sum_{i=1}^n |a_{ij}|$$\n",
    "$$\\|x\\|_{1} = \\max_{1 \\leq i \\leq n} |x_i|$$"
   ],
   "metadata": {
    "collapsed": false
   },
   "id": "dbe7730e754d7852"
  },
  {
   "cell_type": "code",
   "execution_count": 22,
   "outputs": [
    {
     "name": "stdout",
     "output_type": "stream",
     "text": [
      "Matrix erste: 7.0\n",
      "Matrix mit Variabeln erste: Max(0.733333333333333, 0.1 + 10/Abs(a), 0.166666666666667 + 20/Abs(a))\n",
      "Vektor erste: 6.0\n"
     ]
    }
   ],
   "source": [
    "matrix1 = np.array([\n",
    "     [1., 1., 0.], \n",
    "     [3., -5., 2.],  \n",
    "     [1., -1., 3.], \n",
    "    ])\n",
    "\n",
    "a = sp.Symbol('a')\n",
    "\n",
    "matrixInf_mitVar = sp.Matrix([\n",
    "     [0., 1/3, 1/6], \n",
    "     [10/a, 0, 20/a],  \n",
    "     [1/10, 2/5, 0], \n",
    "    ])\n",
    "\n",
    "vektor1 = np.array([1., 2., 3.])\n",
    "\n",
    "norm1_m = np.linalg.norm(matrix1, 1)\n",
    "norm1_mVar = matrixInf_mitVar.norm(1)\n",
    "norm1_v = np.linalg.norm(vektor1, 1)\n",
    "print(\"Matrix erste:\", norm1_m)\n",
    "print(\"Matrix mit Variabeln erste:\", norm1_mVar)\n",
    "print(\"Vektor erste:\", norm1_v)"
   ],
   "metadata": {
    "collapsed": false,
    "ExecuteTime": {
     "end_time": "2024-01-09T18:25:16.725969100Z",
     "start_time": "2024-01-09T18:25:16.675967600Z"
    }
   },
   "id": "ee4cc760ae05d267"
  },
  {
   "cell_type": "markdown",
   "source": [
    "Die zweite Norm.\n",
    "$$\\|A\\|_{2} = \\sqrt{\\lambda_{max}(A^TA)}$$\n",
    "$$\\|x\\|_{2} = \\sqrt{\\sum_{i=1}^n x_i^2}$$"
   ],
   "metadata": {
    "collapsed": false
   },
   "id": "68dd8199ded69259"
  },
  {
   "cell_type": "code",
   "execution_count": 23,
   "outputs": [
    {
     "name": "stdout",
     "output_type": "stream",
     "text": [
      "Matrix zweite: 6.635457583388184\n",
      "Vektor zweite: 3.7416573867739413\n"
     ]
    }
   ],
   "source": [
    "matrix2 = np.array([\n",
    "     [1., 1., 0.], \n",
    "     [3., -5., 2.],  \n",
    "     [1., -1., 3.], \n",
    "    ])\n",
    "\n",
    "a = sp.Symbol('a')\n",
    "\n",
    "matrixInf_mitVar = sp.Matrix([\n",
    "     [0., 1/3, 1/6], \n",
    "     [10/a, 0, 20/a],  \n",
    "     [1/10, 2/5, 0], \n",
    "    ])\n",
    "\n",
    "vektor2 = np.array([1., 2., 3.])\n",
    "\n",
    "norm2_m = np.linalg.norm(matrix2, 2)\n",
    "norm2_v = np.linalg.norm(vektor2, 2)\n",
    "#norm2_mVar = matrixInf_mitVar.norm(2)\n",
    "print(\"Matrix zweite:\", norm2_m)\n",
    "#print(\"Matrix mit Variabeln zweite:\", norm2_mVar)\n",
    "print(\"Vektor zweite:\", norm2_v)"
   ],
   "metadata": {
    "collapsed": false,
    "ExecuteTime": {
     "end_time": "2024-01-09T18:25:16.777491700Z",
     "start_time": "2024-01-09T18:25:16.709971500Z"
    }
   },
   "id": "9b94f37f52d1ca95"
  }
 ],
 "metadata": {
  "kernelspec": {
   "display_name": "Python 3",
   "language": "python",
   "name": "python3"
  },
  "language_info": {
   "codemirror_mode": {
    "name": "ipython",
    "version": 2
   },
   "file_extension": ".py",
   "mimetype": "text/x-python",
   "name": "python",
   "nbconvert_exporter": "python",
   "pygments_lexer": "ipython2",
   "version": "2.7.6"
  }
 },
 "nbformat": 4,
 "nbformat_minor": 5
}
