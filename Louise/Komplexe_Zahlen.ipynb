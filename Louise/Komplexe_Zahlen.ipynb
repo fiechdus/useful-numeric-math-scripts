{
 "cells": [
  {
   "cell_type": "code",
   "execution_count": 2,
   "id": "initial_id",
   "metadata": {
    "collapsed": true,
    "ExecuteTime": {
     "end_time": "2024-01-03T10:18:17.281842900Z",
     "start_time": "2024-01-03T10:18:11.888677100Z"
    }
   },
   "outputs": [],
   "source": [
    "import nbconvert as nb\n",
    "import numpy as np"
   ]
  },
  {
   "cell_type": "markdown",
   "source": [
    "### Komplexe Zahlen\n",
    "\n",
    "Normalform\n",
    "$$z = x + i*y$$\n",
    "Trigonometrische Form\n",
    "$$tan(\\varphi) = y/x$$\n",
    "$$x = r* cos(\\varphi)$$\n",
    "$$y = r * sin(\\varphi)$$\n",
    "\n"
   ],
   "metadata": {
    "collapsed": false
   },
   "id": "696ae617b3d6932f"
  },
  {
   "cell_type": "code",
   "execution_count": 3,
   "outputs": [
    {
     "name": "stdout",
     "output_type": "stream",
     "text": [
      "Normalform:  (3-11j)\n",
      "Radius:  11.40175425099138\n",
      "Winkel in Grad:  285.25511870305775\n",
      "Winkel in Rad:  4.9786410295356145\n",
      "Trigonometrische Form:  11.40175425099138 * (cos(4.9786410295356145) + i * sin(4.9786410295356145))\n",
      "Exponential Form:  11.40175425099138 * e^(4.9786410295356145i)\n"
     ]
    }
   ],
   "source": [
    "import math\n",
    "import matplotlib.pyplot as plt\n",
    "\n",
    "x = 3\n",
    "y = -11\n",
    "complex_number = complex(x, y)\n",
    "radius = abs(complex_number)\n",
    "\n",
    "winkel = math.atan(y/x)\n",
    "if winkel < 0:\n",
    "    winkel = 2*np.pi + winkel\n",
    "    \n",
    "winkel_deg = math.degrees(winkel)\n",
    "\n",
    "\n",
    "\n",
    "trig_form = f'{radius} * (cos({winkel}) + i * sin({winkel}))'\n",
    "exp_form = f'{radius} * e^({winkel}i)'\n",
    "print('Normalform: ', complex_number)\n",
    "print('Radius: ', radius)\n",
    "print('Winkel in Grad: ', winkel_deg)\n",
    "print('Winkel in Rad: ', winkel)\n",
    "print('Trigonometrische Form: ', trig_form)\n",
    "print('Exponential Form: ', exp_form)"
   ],
   "metadata": {
    "collapsed": false,
    "ExecuteTime": {
     "end_time": "2024-01-03T10:18:20.341384900Z",
     "start_time": "2024-01-03T10:18:17.282843Z"
    }
   },
   "id": "fae633cdb132cd82"
  },
  {
   "cell_type": "markdown",
   "source": [
    "#### Exponentialform oder Trigonometrische Form in Normalform umwandeln"
   ],
   "metadata": {
    "collapsed": false
   },
   "id": "1de131418daa2534"
  },
  {
   "cell_type": "code",
   "execution_count": 4,
   "outputs": [
    {
     "name": "stdout",
     "output_type": "stream",
     "text": [
      "Radius:  11.4017\n",
      "Winkel in Rad:  4.9786\n",
      "Winkel in Grad:  285.25276788383167\n",
      "Trigonometrische Form:  11.4017 * (cos(4.9786) + i * sin(4.9786))\n",
      "Normalform:  (2.999534400350586-11.000070739368608j)\n",
      "Exponential Form:  11.4017 * e^(4.9786i)\n"
     ]
    }
   ],
   "source": [
    "import math\n",
    "\n",
    "radius = 11.4017\n",
    "winkel = 4.9786\n",
    "winkel_deg = math.degrees(winkel)\n",
    "\n",
    "x = radius * math.cos(winkel)\n",
    "y = radius * math.sin(winkel)\n",
    "\n",
    "trig_form = f'{radius} * (cos({winkel}) + i * sin({winkel}))'\n",
    "exp_form = f'{radius} * e^({winkel}i)'\n",
    "print('Radius: ', radius)\n",
    "print('Winkel in Rad: ', winkel)\n",
    "print('Winkel in Grad: ', winkel_deg)\n",
    "print('Trigonometrische Form: ', trig_form)\n",
    "print('Normalform: ', complex(x, y))\n",
    "print('Exponential Form: ', exp_form)"
   ],
   "metadata": {
    "collapsed": false,
    "ExecuteTime": {
     "end_time": "2024-01-03T10:18:20.541458600Z",
     "start_time": "2024-01-03T10:18:20.341384900Z"
    }
   },
   "id": "95a10d07161f9e9"
  },
  {
   "cell_type": "code",
   "execution_count": 5,
   "outputs": [
    {
     "name": "stderr",
     "output_type": "stream",
     "text": [
      "No artists with labels found to put in legend.  Note that artists whose label start with an underscore are ignored when legend() is called with no argument.\n"
     ]
    },
    {
     "data": {
      "text/plain": "<Figure size 800x800 with 1 Axes>",
      "image/png": "[encoded data removed]"
     },
     "metadata": {},
     "output_type": "display_data"
    }
   ],
   "source": [
    "import cmath\n",
    "z = 3 - 11j\n",
    "\n",
    "# Extrahiere Real- und Imaginärteile von z\n",
    "z_real = z.real\n",
    "z_imag = z.imag\n",
    "\n",
    "angle = cmath.phase(z)\n",
    "\n",
    "# Plotten eines Pfeils von Null bis zur komplexen Zahl z\n",
    "plt.figure(figsize=(8, 8))\n",
    "\n",
    "# Plotten der komplexen Zahl z\n",
    "plt.text(z_real + 0.2, z_imag + 0.2, 'z', fontsize=10)\n",
    "\n",
    "# Plotten des Pfeils von Null bis z\n",
    "plt.plot(0, 0, z_real, z_imag, color='blue')\n",
    "\n",
    "# Plotten der Hilfslinien\n",
    "plt.plot([z_real, z_real], [0, z_imag], color='blue', linestyle='--')\n",
    "\n",
    "# Plotten des Ursprungs\n",
    "plt.scatter(0, 0, color='red')\n",
    "plt.text(0.1, 0.1, '(0,0)', fontsize=10)\n",
    "\n",
    "# Beschriftungen und Titel\n",
    "plt.xlabel('Re(z)')\n",
    "plt.ylabel('Im(z)')\n",
    "plt.title('Pfeil von Null bis zu einem bestimmten Punkt z im Koordinatensystem')\n",
    "plt.legend()\n",
    "\n",
    "# Anzeigen des Plots\n",
    "plt.xlim(-5,5)\n",
    "plt.ylim(-15,15)\n",
    "\n",
    "# Anzeigen des Gitters und der Achsen\n",
    "plt.axhline(0, color='black',linewidth=0.05)\n",
    "plt.axvline(0, color='black',linewidth=0.05)\n",
    "plt.grid()\n",
    "\n",
    "# Anzeigen des Plots\n",
    "plt.show()"
   ],
   "metadata": {
    "collapsed": false,
    "ExecuteTime": {
     "end_time": "2024-01-03T10:18:21.439235700Z",
     "start_time": "2024-01-03T10:18:20.400926700Z"
    }
   },
   "id": "5a8d868eff7357f"
  }
 ],
 "metadata": {
  "kernelspec": {
   "display_name": "Python 3",
   "language": "python",
   "name": "python3"
  },
  "language_info": {
   "codemirror_mode": {
    "name": "ipython",
    "version": 2
   },
   "file_extension": ".py",
   "mimetype": "text/x-python",
   "name": "python",
   "nbconvert_exporter": "python",
   "pygments_lexer": "ipython2",
   "version": "2.7.6"
  }
 },
 "nbformat": 4,
 "nbformat_minor": 5
}
