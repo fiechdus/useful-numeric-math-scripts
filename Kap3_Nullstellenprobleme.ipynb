{
 "cells": [
  {
   "cell_type": "code",
   "execution_count": null,
   "id": "initial_id",
   "metadata": {
    "collapsed": true
   },
   "outputs": [],
   "source": [
    "# Setup\n",
    "import numpy as np\n",
    "import scipy as sci\n",
    "import matplotlib.pyplot as plt"
   ]
  },
  {
   "cell_type": "markdown",
   "source": [
    "# Sekantenverfahren\n",
    "WENN `f(x_n - tolerance) * f(x_n + tolerance) < 0`\n",
    "- DANN => $| x_n - \\bar{x} | < tolerance$\n",
    "  - => Wert ist genug genau, um als \"richtige\" Lösung akzeptiert zu werden."
   ],
   "metadata": {
    "collapsed": false
   },
   "id": "bdf0446999b36d98"
  },
  {
   "cell_type": "code",
   "execution_count": null,
   "outputs": [],
   "source": [
    "from scripts.kap3.sekanten_verfahren import sekanten_verfahren\n",
    "\n",
    "# Hier Funktion definieren:\n",
    "def funktion(x):\n",
    "    return x ** 3 + 3 * x ** 2 + 12 * x + 8\n",
    "\n",
    "print(\"Nullstelle: \" + str(sekanten_verfahren(funktion, -5, 5, 0.01)))"
   ],
   "metadata": {
    "collapsed": false
   },
   "id": "26fe1bc61eb64ff1"
  },
  {
   "cell_type": "code",
   "execution_count": null,
   "outputs": [],
   "source": [],
   "metadata": {
    "collapsed": false
   },
   "id": "7b496424f5c814e3"
  }
 ],
 "metadata": {
  "kernelspec": {
   "display_name": "Python 3",
   "language": "python",
   "name": "python3"
  },
  "language_info": {
   "codemirror_mode": {
    "name": "ipython",
    "version": 2
   },
   "file_extension": ".py",
   "mimetype": "text/x-python",
   "name": "python",
   "nbconvert_exporter": "python",
   "pygments_lexer": "ipython2",
   "version": "2.7.6"
  }
 },
 "nbformat": 4,
 "nbformat_minor": 5
}
