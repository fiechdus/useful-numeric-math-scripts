{
 "cells": [
  {
   "cell_type": "markdown",
   "source": [
    "# Setup - Execute First!\n",
    "Den untenstehenden Codeblock unbedingt zu Beginn ausführen!\n",
    "Dies ist nötig, damit andere Teile des Notebooks korrekt funktionieren."
   ],
   "metadata": {
    "collapsed": false
   },
   "id": "542ad18cc86f9189"
  },
  {
   "cell_type": "code",
   "execution_count": 1,
   "outputs": [],
   "source": [
    "# Setup\n",
    "import numpy as np\n",
    "import scipy as sci\n",
    "import matplotlib.pyplot as plt\n",
    "\n",
    "# Aktivieren von autom. Neuladen von externen Skripten (verhindert Caching-Probleme).\n",
    "%load_ext autoreload\n",
    "%autoreload 2"
   ],
   "metadata": {
    "collapsed": true,
    "ExecuteTime": {
     "end_time": "2023-12-17T16:18:40.475599700Z",
     "start_time": "2023-12-17T16:18:39.376747800Z"
    }
   },
   "id": "initial_id"
  },
  {
   "cell_type": "markdown",
   "source": [
    "# Problemstellung\n",
    "- Gibt es überhaupt Nullstelle von $f(x)$? Wenn ja, in welchem **Bereich**?\n",
    "- Gibt es mehrere Nullstellen? Wenn ja, welche sollten mit Rechner gefunden werden?"
   ],
   "metadata": {
    "collapsed": false
   },
   "id": "9775ba37b1da16a3"
  },
  {
   "cell_type": "markdown",
   "source": [
    "# Fixpunktiteration\n",
    "Gleichung der Form $F(x) = x$ heisst *Fixpunktgleichung*.\n",
    "Lösungen $\\bar{x}$ für $F(x) = x$ heissen *Fixpunkte* / Nullpunkte.\n",
    "\n",
    "**WICHTIG: $F(x)$ hat hier nichts mit Stammfunktionen zu tun!**\n",
    "\n",
    "Erster Schritt ist also, eine Funktion in die Form $F(x) = x$ zu bringen.\n",
    "Bsp.: \n",
    "$$\\begin{split}\n",
    "f(x) =x^3-x+0.3 & = 0\\\\\n",
    "x^3+0.3 & = x\\\\\n",
    "F(x) & = x\n",
    "\\end{split}$$\n",
    "\n",
    "$$\\Rightarrow F_1(x) = x^3 + 0.3 $$\n",
    "\n",
    "$$\\Rightarrow F_2(x) = \\sqrt[3]{x-0.3}$$\n",
    "**Heisst: Es kann mehrere F(x) geben.** "
   ],
   "metadata": {
    "collapsed": false
   },
   "id": "e9c5671a5a484915"
  },
  {
   "cell_type": "code",
   "execution_count": 2,
   "outputs": [
    {
     "ename": "KeyboardInterrupt",
     "evalue": "",
     "output_type": "error",
     "traceback": [
      "\u001B[1;31m---------------------------------------------------------------------------\u001B[0m",
      "\u001B[1;31mKeyboardInterrupt\u001B[0m                         Traceback (most recent call last)",
      "Cell \u001B[1;32mIn[2], line 1\u001B[0m\n\u001B[1;32m----> 1\u001B[0m \u001B[38;5;28;01mfrom\u001B[39;00m \u001B[38;5;21;01mscripts\u001B[39;00m\u001B[38;5;21;01m.\u001B[39;00m\u001B[38;5;21;01mkap3\u001B[39;00m\u001B[38;5;21;01m.\u001B[39;00m\u001B[38;5;21;01mfixpunkt_iteration\u001B[39;00m \u001B[38;5;28;01mimport\u001B[39;00m fixpunkt_iteration\n",
      "File \u001B[1;32m~\\OneDrive - ZHAW\\ZHAW Documents\\Semester 3\\HM1\\exam-preparation\\useful-numeric-math-scripts\\scripts\\kap3\\fixpunkt_iteration.py:30\u001B[0m\n\u001B[0;32m     27\u001B[0m max_iter \u001B[38;5;241m=\u001B[39m \u001B[38;5;241m1000\u001B[39m\n\u001B[0;32m     29\u001B[0m \u001B[38;5;66;03m# Nullstellen finden\u001B[39;00m\n\u001B[1;32m---> 30\u001B[0m nullstellen \u001B[38;5;241m=\u001B[39m \u001B[43mfinde_nullstellen\u001B[49m\u001B[43m(\u001B[49m\u001B[43mg\u001B[49m\u001B[43m,\u001B[49m\u001B[43m \u001B[49m\u001B[43mstartwerte\u001B[49m\u001B[43m,\u001B[49m\u001B[43m \u001B[49m\u001B[43mtoleranz\u001B[49m\u001B[43m,\u001B[49m\u001B[43m \u001B[49m\u001B[43mmax_iter\u001B[49m\u001B[43m)\u001B[49m\n\u001B[0;32m     31\u001B[0m \u001B[38;5;28;01mfor\u001B[39;00m nullstelle \u001B[38;5;129;01min\u001B[39;00m nullstellen:\n\u001B[0;32m     32\u001B[0m     \u001B[38;5;28mprint\u001B[39m(\u001B[38;5;124mf\u001B[39m\u001B[38;5;124m\"\u001B[39m\u001B[38;5;124mNullstelle gefunden bei: \u001B[39m\u001B[38;5;132;01m{\u001B[39;00mnullstelle\u001B[38;5;132;01m}\u001B[39;00m\u001B[38;5;124m\"\u001B[39m)\n",
      "File \u001B[1;32m~\\OneDrive - ZHAW\\ZHAW Documents\\Semester 3\\HM1\\exam-preparation\\useful-numeric-math-scripts\\scripts\\kap3\\fixpunkt_iteration.py:17\u001B[0m, in \u001B[0;36mfinde_nullstellen\u001B[1;34m(g, startwerte, toleranz, max_iter)\u001B[0m\n\u001B[0;32m     15\u001B[0m gefundene_nullstellen \u001B[38;5;241m=\u001B[39m []\n\u001B[0;32m     16\u001B[0m \u001B[38;5;28;01mfor\u001B[39;00m startwert \u001B[38;5;129;01min\u001B[39;00m startwerte:\n\u001B[1;32m---> 17\u001B[0m     nullstelle, iterationen \u001B[38;5;241m=\u001B[39m \u001B[43mfixpunkt_iteration\u001B[49m\u001B[43m(\u001B[49m\u001B[43mg\u001B[49m\u001B[43m,\u001B[49m\u001B[43m \u001B[49m\u001B[43mstartwert\u001B[49m\u001B[43m,\u001B[49m\u001B[43m \u001B[49m\u001B[43mtoleranz\u001B[49m\u001B[43m,\u001B[49m\u001B[43m \u001B[49m\u001B[43mmax_iter\u001B[49m\u001B[43m)\u001B[49m\n\u001B[0;32m     18\u001B[0m     \u001B[38;5;28;01mif\u001B[39;00m iterationen \u001B[38;5;241m<\u001B[39m max_iter:\n\u001B[0;32m     19\u001B[0m         \u001B[38;5;66;03m# Überprüfen, ob die Nullstelle bereits gefunden wurde\u001B[39;00m\n\u001B[0;32m     20\u001B[0m         \u001B[38;5;28;01mif\u001B[39;00m \u001B[38;5;129;01mnot\u001B[39;00m \u001B[38;5;28many\u001B[39m(\u001B[38;5;28mabs\u001B[39m(nullstelle \u001B[38;5;241m-\u001B[39m n) \u001B[38;5;241m<\u001B[39m toleranz \u001B[38;5;28;01mfor\u001B[39;00m n \u001B[38;5;129;01min\u001B[39;00m gefundene_nullstellen):\n",
      "File \u001B[1;32m~\\OneDrive - ZHAW\\ZHAW Documents\\Semester 3\\HM1\\exam-preparation\\useful-numeric-math-scripts\\scripts\\kap3\\fixpunkt_iteration.py:11\u001B[0m, in \u001B[0;36mfixpunkt_iteration\u001B[1;34m(g, startwert, toleranz, max_iter)\u001B[0m\n\u001B[0;32m      9\u001B[0m     \u001B[38;5;28;01mif\u001B[39;00m \u001B[38;5;28mabs\u001B[39m(x_neu \u001B[38;5;241m-\u001B[39m x_alt) \u001B[38;5;241m<\u001B[39m toleranz:\n\u001B[0;32m     10\u001B[0m         \u001B[38;5;28;01mreturn\u001B[39;00m x_neu, i\n\u001B[1;32m---> 11\u001B[0m     x_alt \u001B[38;5;241m=\u001B[39m x_neu\n\u001B[0;32m     12\u001B[0m \u001B[38;5;28;01mreturn\u001B[39;00m x_neu, max_iter\n",
      "\u001B[1;31mKeyboardInterrupt\u001B[0m: "
     ]
    }
   ],
   "source": [
    "from scripts.kap3.fixpunkt_iteration import finde_nullstellen_mit_fixpunktiteration\n",
    "\n",
    "\n",
    "finde_nullstellen_mit_fixpunktiteration()"
   ],
   "metadata": {
    "collapsed": false,
    "ExecuteTime": {
     "end_time": "2023-12-17T16:20:07.663720Z",
     "start_time": "2023-12-17T16:18:42.912517200Z"
    }
   },
   "id": "d48056ef330ad6e7"
  },
  {
   "cell_type": "markdown",
   "source": [
    "# Newton-Verfahren"
   ],
   "metadata": {
    "collapsed": false
   },
   "id": "9b327a69941622b9"
  },
  {
   "cell_type": "markdown",
   "source": [
    "## Sekantenverfahren\n",
    "WENN $f(x_n - tolerance) * f(x_n + tolerance) < 0$\n",
    "- DANN => $| x_n - \\bar{x} | < tolerance$\n",
    "  - => Wert ist genug genau, um als \"richtige\" Lösung akzeptiert zu werden."
   ],
   "metadata": {
    "collapsed": false
   },
   "id": "bdf0446999b36d98"
  },
  {
   "cell_type": "code",
   "execution_count": null,
   "outputs": [],
   "source": [
    "from scripts.kap3.sekanten_verfahren import sekanten_verfahren\n",
    "\n",
    "# Hier Funktion definieren:\n",
    "def funktion(x):\n",
    "    return x ** 3 + 3 * x ** 2 + 12 * x + 8\n",
    "\n",
    "print(\"Nullstelle: \" + str(sekanten_verfahren(funktion, -5, 5, 0.01)))"
   ],
   "metadata": {
    "collapsed": false
   },
   "id": "26fe1bc61eb64ff1"
  },
  {
   "cell_type": "code",
   "execution_count": null,
   "outputs": [],
   "source": [],
   "metadata": {
    "collapsed": false
   },
   "id": "7b496424f5c814e3"
  }
 ],
 "metadata": {
  "kernelspec": {
   "display_name": "Python 3",
   "language": "python",
   "name": "python3"
  },
  "language_info": {
   "codemirror_mode": {
    "name": "ipython",
    "version": 2
   },
   "file_extension": ".py",
   "mimetype": "text/x-python",
   "name": "python",
   "nbconvert_exporter": "python",
   "pygments_lexer": "ipython2",
   "version": "2.7.6"
  }
 },
 "nbformat": 4,
 "nbformat_minor": 5
}
