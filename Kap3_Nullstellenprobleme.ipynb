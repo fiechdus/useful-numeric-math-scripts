{
 "cells": [
  {
   "cell_type": "markdown",
   "source": [
    "# Setup - Execute First!\n",
    "Den untenstehenden Codeblock unbedingt zu Beginn ausführen!\n",
    "Dies ist nötig, damit andere Teile des Notebooks korrekt funktionieren."
   ],
   "metadata": {
    "collapsed": false
   },
   "id": "542ad18cc86f9189"
  },
  {
   "cell_type": "code",
   "execution_count": null,
   "outputs": [],
   "source": [
    "# Setup\n",
    "import numpy as np\n",
    "import scipy as sci\n",
    "import matplotlib.pyplot as plt\n",
    "\n",
    "# Aktivieren von autom. Neuladen von externen Skripten (verhindert Caching-Probleme).\n",
    "%load_ext autoreload\n",
    "%autoreload 2"
   ],
   "metadata": {
    "collapsed": true
   },
   "id": "initial_id"
  },
  {
   "cell_type": "markdown",
   "source": [
    "# Problemstellung\n",
    "- Gibt es überhaupt Nullstelle von $f(x)$? Wenn ja, in welchem **Bereich**?\n",
    "- Gibt es mehrere Nullstellen? Wenn ja, welche sollten mit Rechner gefunden werden?\n",
    "![Nullstellenproblem Beispiel](assets/nullstellenproblem_beispiel.png)"
   ],
   "metadata": {
    "collapsed": false
   },
   "id": "9775ba37b1da16a3"
  },
  {
   "cell_type": "markdown",
   "source": [
    "# Fixpunktiteration\n",
    "Gleichung der Form $F(x) = x$ heisst *Fixpunktgleichung*.\n",
    "Lösungen $\\bar{x}$ für $F(x) = x$ heissen *Fixpunkte* / Nullpunkte.\n",
    "Fixpunktiteration: $x_{n+1} \\equiv F(x_n), n=0,1,...., x_0 \\text{ als Startwert}$\n",
    "\n",
    "**WICHTIG: $F(x)$ hat hier nichts mit Stammfunktionen zu tun!**\n",
    "\n",
    "Erster Schritt ist also, eine Funktion in die Form $F(x) = x$ zu bringen. Somit ist das Nullstellenproblem zu einem Schnittpunktproblem geworden.\n",
    "Bsp.: \n",
    "$$\\begin{split}\n",
    "f(x) =x^3-x+0.3 & = 0\\\\\n",
    "x^3+0.3 & = x\\\\\n",
    "F(x) & = x\n",
    "\\end{split}$$\n",
    "\n",
    "$$\\Rightarrow F_1(x) = x^3 + 0.3 $$\n",
    "\n",
    "$$\\Rightarrow F_2(x) = \\sqrt[3]{x-0.3}$$\n",
    "**Heisst: Es kann mehrere F(x) geben.** "
   ],
   "metadata": {
    "collapsed": false
   },
   "id": "e9c5671a5a484915"
  },
  {
   "cell_type": "code",
   "execution_count": null,
   "outputs": [],
   "source": [
    "from scripts.kap3.fixpunkt_iteration import finde_nullstellen_mit_fixpunktiteration\n",
    "\n",
    "\n",
    "\n",
    "finde_nullstellen_mit_fixpunktiteration()"
   ],
   "metadata": {
    "collapsed": false
   },
   "id": "d48056ef330ad6e7"
  },
  {
   "cell_type": "markdown",
   "source": [
    "## Banachscher Fixpunktsatz\n",
    "Der Banachsche Fixpunktsatz dient dazu, um zu überprüfen, welche Startwerte für eine Fixpunktiteration geeignet sind und was für Fehler für n-te Fixpunktiteration erwartet werden müssen.\n",
    "\n",
    "WENN\n",
    "- i. $F: [a,b] \\rightarrow [a,b]$\n",
    "- ii. $\\alpha = max |F'(x_0)|$ mit $x_o \\in [a,b]$ und $0 < \\alpha < 1$\n",
    "\n",
    "DANN\n",
    "- a) $F$ hat nur einen Fixpunkt $\\overline{x}$ in $[a,b]$\n",
    "- b) $x_{n+1} = F(x_n)$ konvergiert gegen $\\overline{x}$ für alle $x_0 \\in [a,b]$\n",
    "- c) \n",
    "    **apriori**-Abschätzung\n",
    "        $|x_n - \\overline{x}| \\leq \\frac{\\alpha^n}{1 - \\alpha} |x_1 - x_0|$\n",
    "    **aposteriori**-Abschätzung\n",
    "        $|x_n - \\overline{x}| \\leq \\frac{\\alpha}{1 - \\alpha} |x_n - x_{n-1}|$\n",
    "\n",
    "### Beispiel\n",
    "Ist $[a,b] = [0, 0.5]$ geeignetes Intervall für Fixpunktiteration $x_{n+1}=F(x_n)={x_n}^3 + 0.3$? Überprüfung mit Banach:\n",
    "- i. $F(x) = x^3 + 0.3$\n",
    "     $F(0) = 0^3 + 0.3 = 0.3 \\gt 0$\n",
    "     $F(0.5) = 0.5^3+0.3 = 0.425 \\leq 0.5$\n",
    "     $\\rightarrow$ Funktion mit diesem Intervall stetig steigend.\n",
    "- ii. $F'(x) = 3x^2$\n",
    "     $max |F'(x_0)| = 3*0.5^2 = 0.75 \\lt 1$\n",
    "     $x_0 \\in [0, 0.5]$\n",
    "     $\\rightarrow \\alpha = 0.75$\n"
   ],
   "metadata": {
    "collapsed": false
   },
   "id": "9b327a69941622b9"
  },
  {
   "cell_type": "markdown",
   "source": [
    "# Newton-Verfahren\n",
    "Grundsätzliche Idee es, von einer Funktion $f$ näherungsweise eine Nullstelle zu finden, in dem man iterativ bessere Näherungen über die Tangenten der Funktion erzeugt.\n",
    "![Newton-Verfahren](assets/newton-verfahren.png)\n",
    "\n",
    "Voraussetzung, damit Newton-Verfahren funktiontioniert: $f$ muss stetig defferenzierbar sein. Also man kann fortlaufend die Ableitung bilden.\n",
    "$$x_{n+1} = x_n - \\frac{f(x_n)}{f'(x_n)}\\text{ mit (n=0, 1, 2, 3, ...)}$$\n",
    "\n",
    "## Vereinfachtes Newton-Verfahren\n",
    "Statt in jedem Schritt $f'(x_n)$ neu zu bestimmen, kann immer wieder $f'(x_0)$ verwendet werden. Neue Rekursionsformel:\n",
    "$$x_{n+1} = x_n - \\frac{f(x_n)}{f'(x_0)}\\text{ mit (n = 0, 1, 2, 3, ...)}$$\n",
    "\n",
    "$\\Rightarrow$Funktioniert entsprechend weniger gut wie normales Newton-Verfahren. **Konvergiert langsamer.**"
   ],
   "metadata": {
    "collapsed": false
   },
   "id": "e98fc2a15dcc3362"
  },
  {
   "cell_type": "markdown",
   "source": [
    "## Sekantenverfahren\n",
    "Hier wird nicht der Schnittpunkt der Tangenten mit x-Achse berechnet, sondern Schnittpunkt von Sekanten ('Schneidenden') durch jeweils zwei Punkte mit x-Achse. In diesem Fall $(x_0, f(x_0))$ und $(x_1, f(x_1)$.\n",
    "\n",
    "Iterationsformel:\n",
    "$$x_{n+1} = x_n - f(x_n) * \\frac{x_n - x_{n-1}}{f(x_n)-f(x_{x_1})}\\text{ mit (n=1, 2, 3, ...)}$$\n",
    "\n",
    "\n",
    "Zusammengefasst bedeutet dies in HM1:\n",
    "WENN $f(x_n - tolerance) * f(x_n + tolerance) < 0$\n",
    "- DANN => $| x_n - \\bar{x} | < tolerance$\n",
    "  - => Wert ist genug genau, um als \"richtige\" Lösung akzeptiert zu werden."
   ],
   "metadata": {
    "collapsed": false
   },
   "id": "bdf0446999b36d98"
  },
  {
   "cell_type": "code",
   "execution_count": null,
   "outputs": [],
   "source": [
    "from scripts.kap3.sekanten_verfahren import sekanten_verfahren\n",
    "\n",
    "# Hier Funktion definieren:\n",
    "def funktion(x):\n",
    "    return x ** 3 + 3 * x ** 2 + 12 * x + 8\n",
    "\n",
    "print(\"Nullstelle: \" + str(sekanten_verfahren(funktion, -5, 5, 0.01)))"
   ],
   "metadata": {
    "collapsed": false
   },
   "id": "26fe1bc61eb64ff1"
  },
  {
   "cell_type": "markdown",
   "source": [
    "# Konvergenzgeschwindigkeit\n",
    "Nullstellenverfahren unterscheiden sich in ihrer Konvergenzgeschwindigkeit (wie schnell sich eine Funktion einem Wert annähert). Durch **Konvergenzordnung** kann man diese miteinander vergleichen.\n",
    "\n",
    "($x_n$): gegen $\\overline{x}$ konvergierende Folge\n",
    "Das Verfahren hat die **Konvergenzordnung q $\\geq$ 1** ($q>0$) wenn\n",
    "$$|x_{n+1} - \\overline{x}| \\leq c * |x_n - \\overline{x}|^q$$\n",
    "für alle $n$.\n",
    "- Falls $q=1$ wird $c\\lt1$ verlangt.\n",
    "  - \"lineare\" Konvergenz.\n",
    "- Falls $q=2$:\n",
    "  - \"quadratische\" Konvergenz.\n",
    " \n",
    "      \n",
    "## Beispiel\n",
    "$c = 1$ und $|x_0 - \\overline{x} \\leq 0.1|$ \\Rightarrow für quadratische Konvergenz gilt also, dass nach jeder Iteration der Fehler quadratisch abnimmt:\n",
    "$$|x_1 - \\overline{x}| \\leq |x_0 - \\overline{x}|^2 \\leq 0.1^2 = 10^{-2}$$\n",
    "$$|x_2 - \\overline{x}| \\leq |x_1 - \\overline{x}|^2 \\leq (10^{-2})^2 = 10^{-4}$$\n",
    "$$|x_3 - \\overline{x}| \\leq |x_2 - \\overline{x}|^2 \\leq (10^{-4})^2 = 10^{-8}$$\n",
    "\n",
    "- Newton: q=2 quadratisch\n",
    "- vereinf. Newton: q=1 linear\n",
    "- Sekante: q= 1.6\n",
    "\n",
    "\n",
    "\n"
   ],
   "metadata": {
    "collapsed": false
   },
   "id": "bd0580ba6522283c"
  },
  {
   "cell_type": "markdown",
   "source": [
    "# Fehlerabschätzung (Bolzano)\n",
    "Sei $f$: [a,b] $\\rightarrow \\mathbb{R}$ stetig mit $f(a) \\leq 0 \\leq f(b)$ oder $f(a) \\geq 0 \\geq f(b)$. Dann muss $f$ in $[a,b]$ eine Nullstelle besitzen.\n",
    "$\\Rightarrow f(a) * f(b) \\lt 0 $(es wird ein Vorzeichenwechsel festgestellt.)\n",
    "**Dies ist ein Umstand und kann einfach dazu verwendet werden, um zu überprüfen, ob eine Funktion in einem Intervall eine Nullstelle besitzt oder nicht.**\n",
    "\n",
    "Wenn $x_n$ eine Annäherung an eine richtige Nullstelle $\\overline{x}$ ist, dann gilt:\n",
    "$$f(x_n - \\varepsilon) * f(x_n + \\varepsilon) < 0 \\Rightarrow |x_n - \\overline{x}| \\lt \\varepsilon$$\n",
    "\n",
    "## Beispiel\n",
    "Gegeben: $f(x): x^2 - 2 = 0 $ und Fehler $\\varepsilon : 10^{-5}$ \n",
    "Fehler für Näherung $x_3$ berechnen:\n",
    "\n",
    "$\\rightarrow f(x_3 - 10^{-5}) * f(x_3 + 10^{-5}) < 0 $\n",
    "$\\Rightarrow |x_3 - \\overline{x}| \\leq 10^{-5}$\n"
   ],
   "metadata": {
    "collapsed": false
   },
   "id": "932c0deb80154d41"
  }
 ],
 "metadata": {
  "kernelspec": {
   "display_name": "Python 3",
   "language": "python",
   "name": "python3"
  },
  "language_info": {
   "codemirror_mode": {
    "name": "ipython",
    "version": 2
   },
   "file_extension": ".py",
   "mimetype": "text/x-python",
   "name": "python",
   "nbconvert_exporter": "python",
   "pygments_lexer": "ipython2",
   "version": "2.7.6"
  }
 },
 "nbformat": 4,
 "nbformat_minor": 5
}
