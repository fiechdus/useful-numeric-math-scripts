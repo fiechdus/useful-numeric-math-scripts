{
 "cells": [
  {
   "cell_type": "code",
   "execution_count": null,
   "outputs": [],
   "source": [
    "#Setup\n",
    "import numpy as np"
   ],
   "metadata": {
    "collapsed": false
   },
   "id": "6f471897285f6f6c"
  },
  {
   "cell_type": "markdown",
   "source": [
    "# Allgemein / Useful\n",
    "- Matrix-Berechnung mit Brüchen\n",
    "- "
   ],
   "metadata": {
    "collapsed": false
   },
   "id": "cf76ad9db8677434"
  },
  {
   "cell_type": "code",
   "execution_count": null,
   "outputs": [],
   "source": [
    "from scripts.matrix_berechnung_mit_bruechen import matrix_frac\n",
    "\n",
    "A = np.array([\n",
    "    [1, 2, 3],\n",
    "    [4, 5, 6],\n",
    "    [7, 8, 9]\n",
    "])\n",
    "\n",
    "result = matrix_frac(A / 3)\n",
    "print(result)"
   ],
   "metadata": {
    "collapsed": false
   },
   "id": "45aa974724e1d7e6"
  },
  {
   "cell_type": "markdown",
   "source": [
    "# Fixpunkt-Iteration\n",
    "\n"
   ],
   "metadata": {
    "collapsed": false
   },
   "id": "899fba0d5d9b8fd6"
  },
  {
   "cell_type": "code",
   "execution_count": null,
   "outputs": [],
   "source": [
    "import scripts.fixpunkt_iteration\n",
    "\n"
   ],
   "metadata": {
    "collapsed": false
   },
   "id": "2ef4db9b77787662"
  }
 ],
 "metadata": {
  "kernelspec": {
   "display_name": "Python 3",
   "language": "python",
   "name": "python3"
  },
  "language_info": {
   "codemirror_mode": {
    "name": "ipython",
    "version": 2
   },
   "file_extension": ".py",
   "mimetype": "text/x-python",
   "name": "python",
   "nbconvert_exporter": "python",
   "pygments_lexer": "ipython2",
   "version": "2.7.6"
  }
 },
 "nbformat": 4,
 "nbformat_minor": 5
}
