{
 "cells": [
  {
   "cell_type": "markdown",
   "source": [
    "# Setup - Execute First!\n",
    "Den untenstehenden Codeblock unbedingt zu Beginn ausführen!\n",
    "Dies ist nötig, damit andere Teile des Notebooks korrekt funktionieren."
   ],
   "metadata": {
    "collapsed": false
   },
   "id": "fee7f0aaab972d6e"
  },
  {
   "cell_type": "code",
   "execution_count": 1,
   "outputs": [],
   "source": [
    "# Setup\n",
    "import numpy as np\n",
    "import scipy as sci\n",
    "import matplotlib.pyplot as plt\n",
    "\n",
    "# Aktivieren von autom. Neuladen von externen Skripten (verhindert Caching-Probleme).\n",
    "%load_ext autoreload\n",
    "%autoreload 2\n"
   ],
   "metadata": {
    "collapsed": true,
    "ExecuteTime": {
     "end_time": "2023-12-18T09:02:12.854607200Z",
     "start_time": "2023-12-18T09:02:11.310675Z"
    }
   },
   "id": "initial_id"
  },
  {
   "cell_type": "markdown",
   "source": [
    "# Maschinenzahlen\n",
    "Computer können nur endliche Anzahl an Operationen durchführen. Deshalb kann nicht jede reelle Zahl exakt dargestellt werden.\n",
    "\n",
    "Für gegebene Basis $B \\in \\mathbb{N} (B > 1)$ kann aber jede reelle Zahl $x \\in \\mathbb{R}$ wie folgt dargestellt werden:\n",
    "$$x = m * B^{e}$$\n",
    "\n",
    "Dabei ist \n",
    "- $m \\in \\mathbb{R}$ : Mantisse\n",
    "- $e \\in \\mathbb{Z}$ : Exponent\n",
    "\n",
    "### $m$ und $e$\n",
    "$$m = \\pm0.m_1m_2m_3...m_n$$\n",
    "$$e = \\pm e_1e_2...e_l$$"
   ],
   "metadata": {
    "collapsed": false
   },
   "id": "90d14fbbd50511e4"
  },
  {
   "cell_type": "markdown",
   "source": [
    "# Approximations- und Rundungsfehler\n",
    "Da Maschinenzahlen nur eine beschränkte grösse haben gibt es jeweils ein $x_{min}$ und $x_{max}$\n",
    "\n",
    "$$\\begin{split}\n",
    "x_{max} & = B^{e_{max}} - B^{e_{max}-n} = (1 - B^{-n})B^{e_{max}}\\\\\n",
    "x_{min} & = B^{e_{min}-1}\n",
    "\\end{split}\n",
    "$$"
   ],
   "metadata": {
    "collapsed": false
   },
   "id": "1770e622926813de"
  },
  {
   "cell_type": "markdown",
   "source": [
    "## Rundungsfehler und Maschinengenauigkeit\n",
    " \n",
    "\n",
    "### Absoluter / Relativer Fehler\n",
    "- Wenn Näherung $\\widetilde{x}$ zu exaktem Wert $x$ vorhanden, dann ist Betrag der Differenz $|\\widetilde{x} - x|$ der **absolute Fehler**.\n",
    "- Wenn $x \\neq 0 \\Rightarrow |\\frac{\\widetilde{x} - x}{x}| = $ **relativer Fehler**\n",
    "\n",
    "### *n-stellige* Gleichpunktarithmetik\n",
    "Der Grund für Rundungsfehler ist, dass einzelne Operationen ($+,-,*,...$) auf $n+1$ Stellen genau gerechnet wird und das Ergebnis wiederum auf $n$ Stellen gerundet wird.\n",
    "Es wird also nicht erst das Endergebnis, sondern jedes Zwischenergebnis gerundet. Deshalb wird jeder einzelne Rundungsfehler quasi durch die Rechnung weitergetragen. Daraus folgt die **Maschinengenauigkeit**sdefinition.\n",
    "\n",
    "### Maschinengenauigkeit\n",
    "Zahl $eps / \\varepsilon /$ \"Epsilon\", heisst **Maschinengenauigkeit**. Bei allgemeiner Basis $B$ gilt:\n",
    "$$eps := \\frac{B}{2} * B^{-n} = \\frac{1}{2} * B^{1-n}$$\n",
    "$\\Rightarrow eps$ entspricht dem **maximalen relativen Fehler**, der durch Rundung entstehen kann.\n",
    "#### Beispiel:\n",
    "Für Format \"double precision\" in IEEE-754 gilt Mantisse $n = 53$ (hidden bit!). Für Basis $B = 2$ ist Maschinengenauigkeit in diesem Fall:\n",
    "$$eps=\\frac{1}{2}*2^{1-53} = 2^{-53} = 1.110223...e-16$$  \n",
    "\n"
   ],
   "metadata": {
    "collapsed": false
   },
   "id": "f4fa149267d14516"
  },
  {
   "cell_type": "code",
   "execution_count": 2,
   "outputs": [
    {
     "name": "stdout",
     "output_type": "stream",
     "text": [
      "(5e-05, '0.00005')\n"
     ]
    }
   ],
   "source": [
    "from scripts.kap2.berechnung_maschinengenauigkeit import maschinengenauigkeit\n",
    "\n",
    "# Beispiel mit Basis 10 und Präzision / Mantisse 5\n",
    "basis = 10\n",
    "mantisse = 5\n",
    "eps = maschinengenauigkeit(basis, mantisse)\n",
    "print(eps)"
   ],
   "metadata": {
    "collapsed": false,
    "ExecuteTime": {
     "end_time": "2023-12-18T09:02:12.892943400Z",
     "start_time": "2023-12-18T09:02:12.856784700Z"
    }
   },
   "id": "9b44e0c1aac9673b"
  },
  {
   "cell_type": "markdown",
   "source": [
    "## Fehlerfortpflanzung bei Funktionsauswertungen / Konditionierung\n",
    "- Näherung für den **absoluten Fehler bei Funktionsauswertungen**\n",
    "$$[\n",
    "\\underbrace{\\left| f(\\widetilde{x}) - f(x) \\right|}_{\\text{absoluter Fehler von } f(x)}\n",
    "\\approx\n",
    "\\left| f'(x) \\right| \\cdot \\underbrace{\\left| \\widetilde{x} - x \\right|}_{\\text{absoluter Fehler von } x}\n",
    "]\n",
    "$$\n",
    "- Näherung für den **relativen Fehler bei Funktionsauswertungen**\n",
    "$$\n",
    "[\n",
    "\\underbrace{\\left| \\frac{f(\\hat{x}) - f(x)}{f(x)} \\right|}_{\\text{relativer Fehler von } f(x)}\n",
    "\\approx\n",
    "\\underbrace{\\left| \\frac{f'(x) \\cdot x}{f(x)} \\right|}_{\\text{Konditionszahl } K}\n",
    "\\cdot\n",
    "\\underbrace{\\left| \\frac{\\hat{x} - x}{x} \\right|}_{\\text{relativer Fehler von } x}\n",
    "]\n",
    "$$"
   ],
   "metadata": {
    "collapsed": false
   },
   "id": "52528ea9041c3d5f"
  },
  {
   "cell_type": "markdown",
   "source": [
    "### Konditionszahl $K$\n",
    "$$K := \\frac{\\left|f'(x)\\right| \\cdot \\left|x\\right|}{\\left|f(x)\\right|}$$\n",
    "Die Konditionszahl gibt näherungsweise an, um wie viel sich der relative Fehler von $x$ bei einer Funktionsauswertung von $f(x)$ vergrösstert.\n",
    "\n",
    "- Kleines $K\\Rightarrow$ gut konditionierte Probleme.\n",
    "  Der relative Fehler wird durch die Auswertung der Funktion nicht grösser.\n",
    "- Grosses $K\\Rightarrow$ schlecht konditionierte Probleme / \"ill posed problems\".\n",
    "  \n",
    "\n",
    "#### Verhalten **absoluter Fehler**:\n",
    "Pflanzt sich in $x$ bei Funktionsauswertung näherungsweise mit dem Faktor $f'(x)$ fort.\n",
    "$$|f'(x)| > 1 \\rightarrow \\text{Fehler wird grösser}$$\n",
    "\n",
    "#### Verhalten **relativer Fehler**:\n",
    "Pflanzt sich in $x$ bei Funktionsauswertung näherungsweise mit der Konditionszahl fort.\n",
    "$$Konditionszahl > 1 \\rightarrow \\text{Fehler wird grösser}$$\n",
    "\n",
    "#### Beispiel Subtraktion: \n",
    "**schlecht konditioniert** $\\Rightarrow$ **Auslöschung**"
   ],
   "metadata": {
    "collapsed": false
   },
   "id": "1b425005af6d76f1"
  },
  {
   "cell_type": "code",
   "execution_count": 3,
   "outputs": [
    {
     "name": "stdout",
     "output_type": "stream",
     "text": [
      "5/3\n"
     ]
    }
   ],
   "source": [
    "from scripts.kap2.berechnung_konditionszahl import konditionszahl\n",
    "from sympy import symbols\n",
    "\n",
    "x_symbol = symbols('x')\n",
    "f = x_symbol ** 2 + 2*x_symbol + 1\n",
    "x = 5 \n",
    "print(konditionszahl(f, x))"
   ],
   "metadata": {
    "collapsed": false,
    "ExecuteTime": {
     "end_time": "2023-12-18T09:02:13.747126900Z",
     "start_time": "2023-12-18T09:02:12.889227500Z"
    }
   },
   "id": "ba842333685697a2"
  },
  {
   "cell_type": "code",
   "execution_count": 3,
   "outputs": [],
   "source": [],
   "metadata": {
    "collapsed": false,
    "ExecuteTime": {
     "end_time": "2023-12-18T09:02:13.747126900Z",
     "start_time": "2023-12-18T09:02:13.743386700Z"
    }
   },
   "id": "6c235dbbca3b7cd1"
  }
 ],
 "metadata": {
  "kernelspec": {
   "display_name": "Python 3",
   "language": "python",
   "name": "python3"
  },
  "language_info": {
   "codemirror_mode": {
    "name": "ipython",
    "version": 2
   },
   "file_extension": ".py",
   "mimetype": "text/x-python",
   "name": "python",
   "nbconvert_exporter": "python",
   "pygments_lexer": "ipython2",
   "version": "2.7.6"
  }
 },
 "nbformat": 4,
 "nbformat_minor": 5
}
