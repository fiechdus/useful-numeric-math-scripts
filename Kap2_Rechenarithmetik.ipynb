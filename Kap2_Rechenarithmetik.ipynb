{
 "cells": [
  {
   "cell_type": "markdown",
   "source": [
    "# Setup - Execute First!\n",
    "Den untenstehenden Codeblock unbedingt zu Beginn ausführen!\n",
    "Dies ist nötig, damit andere Teile des Notebooks korrekt funktionieren."
   ],
   "metadata": {
    "collapsed": false
   },
   "id": "fee7f0aaab972d6e"
  },
  {
   "cell_type": "code",
   "execution_count": null,
   "outputs": [],
   "source": [
    "# Setup\n",
    "import numpy as np\n",
    "import scipy as sci\n",
    "import matplotlib.pyplot as plt\n",
    "\n",
    "# Aktivieren von autom. Neuladen von externen Skripten (verhindert Caching-Probleme).\n",
    "%load_ext autoreload\n",
    "%autoreload 2\n"
   ],
   "metadata": {
    "collapsed": true
   },
   "id": "initial_id"
  },
  {
   "cell_type": "markdown",
   "source": [
    "# Maschinenzahlen\n",
    "Computer können nur endliche Anzahl an Operationen durchführen. Deshalb kann nicht jede reelle Zahl exakt dargestellt werden.\n",
    "\n",
    "- Für eine gegebene Basis $B \\in \\mathbb{N}$ kann jede reelle Zahl $x \\in \\mathbb{R}$ wie folgt dargestellt werden:\n",
    "\n",
    "$$\\pm 0.m_{1}m_{2}m_{3}m_{4}\\dots m_{n}*B^{\\pm e_{1}e_{2}\\dots e_{l}}$$\n",
    "\n",
    "- **Mantisse**: $m=0.m_{1}m_{2}\\dots m_{n}$\n",
    "\t- **Normalisierungsbedingung**: $m_1\\neq0$\n",
    "- **Exponent**: $e=e_{1}e_{2}e_{3}\\dots e_{l}$\n",
    "\t- Der Exponent definiert die Position des Dezimalpunktes\n",
    "\n",
    "Dabei gilt:\n",
    "\n",
    "$$m_{i}, e_{i} \\in \\{0,1,\\dots,B-1\\}$$\n",
    "\n",
    "- Man spricht von **n-Stelliger Gleitpunktarithmetik**\n",
    "- $n$ = Anzahl Mantissen"
   ],
   "metadata": {
    "collapsed": false
   },
   "id": "90d14fbbd50511e4"
  },
  {
   "cell_type": "markdown",
   "source": [
    "# Approximations- und Rundungsfehler\n",
    "\n",
    "- Es gibt eine obere und untere Schranke für den Exponent $e$\n",
    "- $e_{min}\\le e\\le e_{max}$\n",
    "- Bei Rechnern bsp. wenn gemäss IEEE-754 gespeichert wird:\n",
    "\t- $[-126; 127]$\n",
    "\n",
    "Für eine Basis $B$ gelten folgende Schranken bei **normalisierten Gleitpunktzahlen**:\n",
    "\n",
    "$$\\begin{split}\n",
    "x_{max} & = B^{e_{max}} - B^{e_{max}-n} = (1 - B^{-n})B^{e_{max}}\\\\\n",
    "x_{min} & = B^{e_{min}-1}\n",
    "\\end{split}\n",
    "$$\n",
    "\n",
    "- Bei $x < x_{min}$ kommt es zu Unterlauf (underflow)\n",
    "\t- Es wird mit 0 weitergerechnet\n",
    "- Bei $x > x_{max}$ kommt es zu Überlauf (overflow)\n",
    "\t- Die Rechnung wird abgebrochen"
   ],
   "metadata": {
    "collapsed": false
   },
   "id": "1770e622926813de"
  },
  {
   "cell_type": "markdown",
   "source": [
    "## Rundungsfehler und Maschinengenauigkeit\n",
    " \n",
    "\n",
    "### Absoluter / Relativer Fehler\n",
    "- Wenn Näherung $\\widetilde{x}$ zu exaktem Wert $x$ vorhanden, dann ist Betrag der Differenz $|\\widetilde{x} - x|$ der **absolute Fehler**.\n",
    "- Wenn $x \\neq 0 \\Rightarrow |\\frac{\\widetilde{x} - x}{x}| = $ **relativer Fehler**\n",
    "\n",
    "### *n-stellige* Gleichpunktarithmetik\n",
    "Der Grund für Rundungsfehler ist, dass einzelne Operationen ($+,-,*,...$) auf $n+1$ Stellen genau gerechnet wird und das Ergebnis wiederum auf $n$ Stellen gerundet wird.\n",
    "Es wird also nicht erst das Endergebnis, sondern jedes Zwischenergebnis gerundet. Deshalb wird jeder einzelne Rundungsfehler quasi durch die Rechnung weitergetragen. Daraus folgt die **Maschinengenauigkeit**sdefinition.\n",
    "\n",
    "### Maschinengenauigkeit\n",
    "Zahl $eps / \\varepsilon /$ \"Epsilon\", heisst **Maschinengenauigkeit**. Bei allgemeiner Basis $B$ gilt:\n",
    "$$eps := \\frac{B}{2} * B^{-n} = \\frac{1}{2} * B^{1-n}$$\n",
    "$\\Rightarrow eps$ entspricht dem **maximalen relativen Fehler**, der durch Rundung entstehen kann.\n",
    "- Grösste positive Maschinenzahl, für die $1+eps=1$ gerundet wird\n",
    "- Achtung: Maschinengenauigkeit $\\neq$ kleinste darstellbare Zahl\n",
    "- Rundung könnte zum Beispiel bei Division entstehen\n",
    "\n",
    "#### Komplettbeispiel\n",
    "- Rechner mit Mantisse $n=4$, $B=10$, Exponent $e=[-5, 5]$\n",
    "- $x_{min}=B^{-5-1} = 0.000001 = 0.1 * 10^{-5}$\n",
    "- $eps = \\frac{10}{2}*10^{-4} = 5*10^{-4} = 0.0005$\n",
    "- $eps$ wird fast erreicht bei $x = 0.10005 * 10^{5} = 10'005$\n",
    "\t- $rd(x) = 0.1001 * 10^{5}= 10'010$\n",
    "\t- $\\frac{10010-10005}{10005}=0.00049975 \\le 0.0005$\n",
    "\t- Diese Maschinenzahl könnte zum Beispiel bei einer Division zustanden gekommen sein\n",
    "\n",
    "#### Maschinengenauigkeit von \"double precision\"\n",
    "Für Format \"double precision\" in IEEE-754 gilt Mantisse $n = 53$ (hidden bit!). Für Basis $B = 2$ ist Maschinengenauigkeit in diesem Fall:\n",
    "$$eps=\\frac{1}{2}*2^{1-53} = 2^{-53} = 1.110223...e-16$$  \n",
    "\n"
   ],
   "metadata": {
    "collapsed": false
   },
   "id": "f4fa149267d14516"
  },
  {
   "cell_type": "code",
   "execution_count": null,
   "outputs": [],
   "source": [
    "from scripts.kap2.berechnung_maschinengenauigkeit import maschinengenauigkeit\n",
    "\n",
    "# Beispiel mit Basis 10 und Präzision / Mantisse 5\n",
    "basis = 10\n",
    "mantisse = 5\n",
    "eps = maschinengenauigkeit(basis, mantisse)\n",
    "print(eps)"
   ],
   "metadata": {
    "collapsed": false
   },
   "id": "9b44e0c1aac9673b"
  },
  {
   "cell_type": "markdown",
   "source": [
    "## Fehlerfortpflanzung bei Funktionsauswertungen / Konditionierung\n",
    "- Näherung für den **absoluten Fehler bei Funktionsauswertungen**\n",
    "$$[\n",
    "\\underbrace{\\left| f(\\widetilde{x}) - f(x) \\right|}_{\\text{absoluter Fehler von } f(x)}\n",
    "\\approx\n",
    "\\left| f'(x) \\right| \\cdot \\underbrace{\\left| \\widetilde{x} - x \\right|}_{\\text{absoluter Fehler von } x}\n",
    "]\n",
    "$$\n",
    "- Näherung für den **relativen Fehler bei Funktionsauswertungen**\n",
    "$$\n",
    "[\n",
    "\\underbrace{\\left| \\frac{f(\\hat{x}) - f(x)}{f(x)} \\right|}_{\\text{relativer Fehler von } f(x)}\n",
    "\\approx\n",
    "\\underbrace{\\left| \\frac{f'(x) \\cdot x}{f(x)} \\right|}_{\\text{Konditionszahl } K}\n",
    "\\cdot\n",
    "\\underbrace{\\left| \\frac{\\hat{x} - x}{x} \\right|}_{\\text{relativer Fehler von } x}\n",
    "]\n",
    "$$"
   ],
   "metadata": {
    "collapsed": false
   },
   "id": "52528ea9041c3d5f"
  },
  {
   "cell_type": "markdown",
   "source": [
    "### Konditionszahl $K$\n",
    "$$K := \\frac{\\left|f'(x)\\right| \\cdot \\left|x\\right|}{\\left|f(x)\\right|}$$\n",
    "Die Konditionszahl gibt näherungsweise an, um wie viel sich der relative Fehler von $x$ bei einer Funktionsauswertung von $f(x)$ vergrösstert.\n",
    "\n",
    "- Kleines $K\\Rightarrow$ gut konditionierte Probleme.\n",
    "  Der relative Fehler wird durch die Auswertung der Funktion nicht grösser.\n",
    "- Grosses $K\\Rightarrow$ schlecht konditionierte Probleme / \"ill posed problems\".\n",
    "  \n",
    "\n",
    "#### Verhalten **absoluter Fehler**:\n",
    "Pflanzt sich in $x$ bei Funktionsauswertung näherungsweise mit dem Faktor $f'(x)$ fort.\n",
    "$$|f'(x)| > 1 \\rightarrow \\text{Fehler wird grösser}$$\n",
    "\n",
    "#### Verhalten **relativer Fehler**:\n",
    "Pflanzt sich in $x$ bei Funktionsauswertung näherungsweise mit der Konditionszahl fort.\n",
    "$$Konditionszahl > 1 \\rightarrow \\text{Fehler wird grösser}$$\n",
    "\n",
    "#### Beispiel Subtraktion: \n",
    "**schlecht konditioniert** $\\Rightarrow$ **Auslöschung**"
   ],
   "metadata": {
    "collapsed": false
   },
   "id": "1b425005af6d76f1"
  },
  {
   "cell_type": "code",
   "execution_count": null,
   "outputs": [],
   "source": [
    "from scripts.kap2.berechnung_konditionszahl import berechne_konditionszahl\n",
    "from sympy import symbols\n",
    "\n",
    "x_symbol = symbols('x')\n",
    "f = x_symbol ** 2 + 2*x_symbol + 1\n",
    "x = 5 \n",
    "print(berechne_konditionszahl(f, x))"
   ],
   "metadata": {
    "collapsed": false
   },
   "id": "ba842333685697a2"
  }
 ],
 "metadata": {
  "kernelspec": {
   "display_name": "Python 3",
   "language": "python",
   "name": "python3"
  },
  "language_info": {
   "codemirror_mode": {
    "name": "ipython",
    "version": 2
   },
   "file_extension": ".py",
   "mimetype": "text/x-python",
   "name": "python",
   "nbconvert_exporter": "python",
   "pygments_lexer": "ipython2",
   "version": "2.7.6"
  }
 },
 "nbformat": 4,
 "nbformat_minor": 5
}
