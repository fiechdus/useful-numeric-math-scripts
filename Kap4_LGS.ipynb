{
 "cells": [
  {
   "cell_type": "markdown",
   "source": [
    "# Setup - Execute First!\n",
    "Den untenstehenden Codeblock unbedingt zu Beginn ausführen!\n",
    "Dies ist nötig, damit andere Teile des Notebooks korrekt funktionieren."
   ],
   "metadata": {
    "collapsed": false
   },
   "id": "68cde0622787367c"
  },
  {
   "cell_type": "code",
   "execution_count": null,
   "outputs": [],
   "source": [
    "# Setup\n",
    "import numpy as np\n",
    "import scipy as sci\n",
    "import matplotlib.pyplot as plt\n",
    "\n",
    "# Aktivieren von autom. Neuladen von externen Skripten (verhindert Caching-Probleme).\n",
    "%load_ext autoreload\n",
    "%autoreload 2"
   ],
   "metadata": {
    "collapsed": false
   },
   "id": "6f471897285f6f6c"
  },
  {
   "cell_type": "markdown",
   "source": [
    "# Allgemein / Useful\n",
    "1. Matrix-Berechnung mit Brüchen\n",
    "2. Determinanten-Berechnung\n",
    "3. Polynom-Berechnungen"
   ],
   "metadata": {
    "collapsed": false
   },
   "id": "cf76ad9db8677434"
  },
  {
   "cell_type": "markdown",
   "source": [
    "## 1. Matrix-Berechnung mit Brüchen"
   ],
   "metadata": {
    "collapsed": false
   },
   "id": "75a36417b2216d8d"
  },
  {
   "cell_type": "code",
   "execution_count": null,
   "outputs": [],
   "source": [
    "from scripts.matrix_berechnung_mit_bruechen import matrix_frac\n",
    "\n",
    "A = np.array([\n",
    "    [1, 2, 3],\n",
    "    [4, 5, 6],\n",
    "    [7, 8, 9]\n",
    "])\n",
    "\n",
    "result = matrix_frac(A / 3)\n",
    "print(result)"
   ],
   "metadata": {
    "collapsed": false
   },
   "id": "45aa974724e1d7e6"
  },
  {
   "cell_type": "markdown",
   "source": [
    "## 2. Determinanten-Berechnung\n"
   ],
   "metadata": {
    "collapsed": false
   },
   "id": "8046e3f9589cdbd9"
  },
  {
   "cell_type": "code",
   "execution_count": null,
   "outputs": [],
   "source": [
    "A = np.array([\n",
    "    [3, 3, 3],\n",
    "    [1, 0, 4],\n",
    "    [8, 9, 2]\n",
    "])\n",
    "det = np.linalg.det(A)\n",
    "print(det)\n",
    "# Validieren mit: https://matrixcalc.org/de/#determinant%28%7B%7B3,3,3%7D,%7B1,0,4%7D,%7B8,9,2%7D%7D%29"
   ],
   "metadata": {
    "collapsed": false
   },
   "id": "89c056d90d2260f0"
  },
  {
   "cell_type": "markdown",
   "source": [
    "## 3. Polynome (das Wichtigste)"
   ],
   "metadata": {
    "collapsed": false
   },
   "id": "95c4b2c711c58958"
  },
  {
   "cell_type": "code",
   "execution_count": null,
   "outputs": [],
   "source": [
    "# Polynom definieren:\n",
    "polynom_koeffizienten = np.array([1, 2, 3]) # 1x^2 + 2x + 3\n",
    "\n",
    "# Polynom-Wertberechnung:\n",
    "print(\"Berechneter Wert:\" + str(np.polyval(polynom_koeffizienten, 5)))\n",
    "\n",
    "# Nullstellen:\n",
    "polynom_koeffizienten = np.array([2, 3, 1])\n",
    "print(\"Nullstellen:\" + str(np.roots(polynom_koeffizienten)))\n",
    "\n",
    "# Arithmetik;\n",
    "p1 = np.array([2, 3, 5])\n",
    "p2 = np.array([1, 4])\n",
    "print(\"Arithmetik:\" + str(np.polyadd(p1, p2))) # or polysub, polymul, polydiv\n",
    "\n",
    "# Fitting:\n",
    "x = np.array([1, 2, 3])\n",
    "y = np.array([4, 5, 6])\n",
    "print(\"Fitting:\" + str(np.polyfit(x, y, 2)))\n",
    "\n",
    "# Ableiten und Integrieren:\n",
    "print(\"Ableiten:\" + str(np.polyder(polynom_koeffizienten)))\n",
    "print(\"Integrieren:\" + str(np.polyint(polynom_koeffizienten)))"
   ],
   "metadata": {
    "collapsed": false
   },
   "id": "6dcecc1abcf76f01"
  },
  {
   "cell_type": "markdown",
   "source": [
    "# Fixpunkt-Iteration\n",
    "\n"
   ],
   "metadata": {
    "collapsed": false
   },
   "id": "899fba0d5d9b8fd6"
  },
  {
   "cell_type": "code",
   "execution_count": null,
   "outputs": [],
   "source": [
    "import scripts.fixpunkt_iteration\n",
    "\n"
   ],
   "metadata": {
    "collapsed": false
   },
   "id": "2ef4db9b77787662"
  }
 ],
 "metadata": {
  "kernelspec": {
   "display_name": "Python 3",
   "language": "python",
   "name": "python3"
  },
  "language_info": {
   "codemirror_mode": {
    "name": "ipython",
    "version": 2
   },
   "file_extension": ".py",
   "mimetype": "text/x-python",
   "name": "python",
   "nbconvert_exporter": "python",
   "pygments_lexer": "ipython2",
   "version": "2.7.6"
  }
 },
 "nbformat": 4,
 "nbformat_minor": 5
}
