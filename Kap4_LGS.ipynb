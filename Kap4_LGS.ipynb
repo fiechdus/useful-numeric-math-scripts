{
 "cells": [
  {
   "cell_type": "markdown",
   "id": "68cde0622787367c",
   "metadata": {
    "collapsed": false
   },
   "source": [
    "# Setup - Execute First!\n",
    "Den untenstehenden Codeblock unbedingt zu Beginn ausführen!\n",
    "Dies ist nötig, damit andere Teile des Notebooks korrekt funktionieren."
   ]
  },
  {
   "cell_type": "code",
   "execution_count": null,
   "id": "6f471897285f6f6c",
   "metadata": {
    "collapsed": false
   },
   "outputs": [],
   "source": [
    "# Setup\n",
    "import numpy as np\n",
    "import scipy as sci\n",
    "import matplotlib.pyplot as plt\n",
    "\n",
    "# Aktivieren von autom. Neuladen von externen Skripten (verhindert Caching-Probleme).\n",
    "%load_ext autoreload\n",
    "%autoreload 2"
   ]
  },
  {
   "cell_type": "markdown",
   "id": "cf76ad9db8677434",
   "metadata": {
    "collapsed": false
   },
   "source": [
    "# Allgemein / Useful\n",
    "1. Matrix-Berechnung mit Brüchen\n",
    "2. Determinanten-Berechnung\n",
    "3. Polynom-Berechnungen"
   ]
  },
  {
   "cell_type": "markdown",
   "id": "75a36417b2216d8d",
   "metadata": {
    "collapsed": false
   },
   "source": [
    "## 1. Matrix-Berechnung mit Brüchen"
   ]
  },
  {
   "cell_type": "code",
   "execution_count": null,
   "id": "45aa974724e1d7e6",
   "metadata": {
    "collapsed": false
   },
   "outputs": [],
   "source": [
    "from scripts.matrix_berechnung_mit_bruechen import matrix_frac\n",
    "\n",
    "A = np.array([\n",
    "    [1, 2, 3],\n",
    "    [4, 5, 6],\n",
    "    [7, 8, 9]\n",
    "])\n",
    "\n",
    "result = matrix_frac(A / 3)\n",
    "print(result)"
   ]
  },
  {
   "cell_type": "markdown",
   "id": "8046e3f9589cdbd9",
   "metadata": {
    "collapsed": false
   },
   "source": [
    "## 2. Determinanten-Berechnung\n"
   ]
  },
  {
   "cell_type": "code",
   "execution_count": null,
   "id": "89c056d90d2260f0",
   "metadata": {
    "collapsed": false
   },
   "outputs": [],
   "source": [
    "A = np.array([\n",
    "    [3, 3, 3],\n",
    "    [1, 0, 4],\n",
    "    [8, 9, 2]\n",
    "])\n",
    "det = np.linalg.det(A)\n",
    "print(det)\n",
    "# Validieren mit: https://matrixcalc.org/de/#determinant%28%7B%7B3,3,3%7D,%7B1,0,4%7D,%7B8,9,2%7D%7D%29"
   ]
  },
  {
   "cell_type": "markdown",
   "id": "95c4b2c711c58958",
   "metadata": {
    "collapsed": false
   },
   "source": [
    "## 3. Polynome (das Wichtigste)"
   ]
  },
  {
   "cell_type": "code",
   "execution_count": null,
   "id": "6dcecc1abcf76f01",
   "metadata": {
    "collapsed": false
   },
   "outputs": [],
   "source": [
    "# Polynom definieren:\n",
    "polynom_koeffizienten = np.array([1, 2, 3]) # 1x^2 + 2x + 3\n",
    "\n",
    "# Polynom-Wertberechnung:\n",
    "print(\"Berechneter Wert:\" + str(np.polyval(polynom_koeffizienten, 5)))\n",
    "\n",
    "# Nullstellen:\n",
    "polynom_koeffizienten = np.array([2, 3, 1])\n",
    "print(\"Nullstellen:\" + str(np.roots(polynom_koeffizienten)))\n",
    "\n",
    "# Arithmetik;\n",
    "p1 = np.array([2, 3, 5])\n",
    "p2 = np.array([1, 4])\n",
    "print(\"Arithmetik:\" + str(np.polyadd(p1, p2))) # or polysub, polymul, polydiv\n",
    "\n",
    "# Fitting:\n",
    "x = np.array([1, 2, 3])\n",
    "y = np.array([4, 5, 6])\n",
    "print(\"Fitting:\" + str(np.polyfit(x, y, 2)))\n",
    "\n",
    "# Ableiten und Integrieren:\n",
    "print(\"Ableiten:\" + str(np.polyder(polynom_koeffizienten)))\n",
    "print(\"Integrieren:\" + str(np.polyint(polynom_koeffizienten)))"
   ]
  },
  {
   "cell_type": "markdown",
   "id": "899fba0d5d9b8fd6",
   "metadata": {
    "collapsed": false
   },
   "source": [
    "# Problemstellung\n",
    "Man hat ein lineares Gleichungssystem mit $n$ Gleichungen und $n$ Unbekannten.\n",
    "$$Ax=b$$\n",
    "\n",
    "## Untere (normierte) Dreiecksmatrix\n",
    "<img src=\"assets/untere_normierte_dreiecksmatrix.png\" alt=\"Untere normierte Dreiecksmatrix\" width=\"800\">\n",
    "\n",
    "## Obere Dreiecksmatrix\n",
    "Wichtige Information: Im Englischen wird die obere Dreiecksmatrix (deutsch: R für \"rechts\") als \"U\" bezeichnet. Dies da in Englisch die Rede von Lower und Upper Matrix ist, statt wie im Deutschen Linke und Rechte Matrix.<br>\n",
    "<img src=\"assets/obere_dreiecksmatrix.png\" alt=\"Obere Dreiecksmatrix\" width=\"800\">"
   ]
  },
  {
   "cell_type": "markdown",
   "id": "d4717fc14d2b08d7",
   "metadata": {
    "collapsed": false
   },
   "source": [
    "# Gauss-Algorithmus\n",
    "Grundidee bei diesem Algorithmus ist es, die Matrix $A$ und den Vektor $b$ so umzuwandeln, dass die Gleichung $Ax=b\\Rightarrow\\tilde{A}x=\\tilde{b}$ entsteht. Ziel ist es, dass $\\tilde{A}$ dann als obere Dreiecksmatrix vorhanden ist.\n",
    "$$\n",
    "A =\n",
    "\\begin{pmatrix}\n",
    "a_{11} & a_{12} & a_{13} & \\cdots & a_{1n} \\\\\n",
    "0 & a_{22} & a_{23} & \\cdots & a_{2n} \\\\\n",
    "0 & 0 & a_{33} & \\cdots & a_{3n} \\\\\n",
    "\\vdots & \\vdots & \\vdots & \\ddots & \\vdots \\\\\n",
    "0 & 0 & 0 & \\cdots & a_{nn}\n",
    "\\end{pmatrix}\n",
    "$$\n",
    "\n",
    "Vorgehen:\n",
    "1. Vorwärtselimination\n",
    "  Matrix in _obere Dreiecksmatrix_ Form bringen.\n",
    "  Rechenregeln:\n",
    "    - Zeilen dürfen beliebig vertauscht werden (A & b). Ziel ist aber, dass Zeilen mit (links-)führenden Nullen nie oberhalb einer Zeile sind, bei welche keine führende Null hat oder eine, bei der die Null weiter links liegt.\n",
    "    - Addition/Subtraktion: Zeilen dürfen (multipliziert mit Konstante $c$) zu anderen Zeilen addiert oder subtrahiert werden. \n",
    "2. Rückwertseinsetzen\n",
    "  von unten nach oben alle Elemente von $x$ bestimmen.\n",
    "$$\n",
    "x_n = \\frac{b_n}{a_{nn}}, \\quad x_{n-1} = \\frac{b_{n-1} - a_{n-1,n}x_n}{a_{n-1,n-1}}, \\quad \\ldots, \\quad x_1 = \\frac{b_1 - a_{12}x_2 - \\cdots - a_{1n}x_n}{a_{11}}\n",
    "$$\n",
    "Rückwärtseinsetzen, kompatt geschrieben:\n",
    "$$\n",
    "x_i = \\frac{b_i - \\sum_{j=i+1}^{n} a_{ij}x_j}{a_{ii}}, \\quad i = n, n-1, \\ldots, 1.\n",
    "$$\n",
    "\n"
   ]
  },
  {
   "cell_type": "markdown",
   "id": "f5ce04116708d1fb",
   "metadata": {
    "collapsed": false
   },
   "source": [
    "# Fehlerfortpflanzung bei Gauss-Algorithmus und Pivotisierung\n",
    "Beim normelen Gauss-Algorithmus werden Zeilen nur vertauscht, wenn während Berechnungen ein Diagonalelement zu Null wurde. **Zeilenvertauschungen können aber auch dazu verwendet werden, um Fehler z.B. durch Gleitpunktoperationen, uz minimieren**.\n",
    "Gauss-Eliminationsfaktor: $\\lambda = \\frac{a_{ji}}{a_{ii}}$\n",
    "Optimaler-Eliminationsbedingung: $|\\lambda| = |\\frac{a_{ji}}{a_{ii}}| \\lt 1$ \n",
    "$\\Rightarrow$ Um den Fehler möglichst klein zu behalten wird also vor jedem Eliminationsschrit überprüft, welches Element in der Spalte betragsmässig am grössten ist. Dieses Spaltenelement sollte anschliessend durch Vertauschen zuoberst sein. Man nennt dies **Spaltenpivotisierung**.\n",
    "\n",
    "## Beispiel\n",
    "$$\n",
    "A = \n",
    "\\begin{pmatrix}\n",
    "1 & 2 & -1 \\\\\n",
    "4 & -2 & 6 \\\\\n",
    "3 & 1 & 0\n",
    "\\end{pmatrix}\n",
    "$$\n",
    "Entsprechende Spaltenpivotisierung (rot):\n",
    "<img src=\"assets/gauss-spalterpivotisierung_beispiel.jpg\" alt=\"Gauss-Spaltenpivotisierung Beispiel\" width=\"800\">"
   ]
  },
  {
   "cell_type": "markdown",
   "id": "5efeb9704da52e96",
   "metadata": {
    "collapsed": false
   },
   "source": [
    "# Dreieckzerlegung von Matrizen\n",
    "## LR-Zerlegung\n",
    "Matrix $A$ wird in ein Produkt von zwei Matrizen $L$ und $R$ zerlegt (Vektor $b$ bleibt also unverändert), also $A=LR$.\n",
    "- $L$: untere **normierte** Dreiecksmatrix\n",
    "- $R$: obere Dreiecksmatrix\n",
    "Das Zerlegen von $A=LR$ kann auch als $LR$-Faktorisierung bezeichnet werden.\n",
    "$$Ax=b$$\n",
    "wird somit zu\n",
    "$$LRx = b\\Leftrightarrow Ly = b \\text{ und }Rx = y$$\n",
    "\n",
    "Für das Rückwärtseinsetzen wiederum gilt:\n",
    "$$Ax = LRx = Ly = b$$\n",
    "\n",
    "Bemerkungen:\n",
    "- $R$ ist durch Gauss-Algorithmus entstandene Matrix\n",
    "- Elemente $l_{ji}$ in $L$ entsprechen den berechneten Faktoren $\\lambda$ den Eliminationsschritten für Gauss $z_j := z_j - \\lambda_{ji}z_i$ also $l_{ji} = \\lambda_{ji}$\n",
    "\n",
    "### Beispiel aus Skript\n",
    "$$\n",
    "A = \\begin{pmatrix}\n",
    "\\textcolor{blue}{-1} & 1 & 1 \\\\\n",
    "\\textcolor{red}{1} & -3 & -2 \\\\\n",
    "5 & 1 & 4\n",
    "\\end{pmatrix}\n",
    "$$\n",
    "$$\n",
    "\\begin{align*}\n",
    "i &= 1, j = 2 \\Rightarrow z_2 & = z_2 - \\frac{\\textcolor{red}{1}}{\\textcolor{blue}{-1}}z_1 \\Rightarrow A_1 &= \\begin{pmatrix}\n",
    "\\textcolor{blue}{-1} & 1 & 1 \\\\\n",
    "0 & -2 & -1 \\\\\n",
    "\\textcolor{magenta}{5} & 1 & 4\n",
    "\\end{pmatrix} \\\\\n",
    "i &= 1, j = 3 \\Rightarrow z_3 & = z_3 - \\frac{\\textcolor{magenta}{5}}{\\textcolor{blue}{-1}}z_1 \\Rightarrow A_2 &= \\begin{pmatrix}\n",
    "-1 & 1 & 1 \\\\\n",
    "0 & \\textcolor{orange}{-2} & -1 \\\\\n",
    "0 & \\textcolor{cyan}{6} & 9\n",
    "\\end{pmatrix} \\\\\n",
    "i &= 2, j = 3 \\Rightarrow z_3 & = z_3 - \\frac{\\textcolor{cyan}{6}}{\\textcolor{orange}{-2}}z_2 \\Rightarrow A_3 &= \\begin{pmatrix}\n",
    "-1 & 1 & 1 \\\\\n",
    "0 & -2 & -1 \\\\\n",
    "0 & 0 & 6\n",
    "\\end{pmatrix} = R\n",
    "\\end{align*}\n",
    "$$\n",
    "\n",
    "$$\n",
    "R = A_3 = \\begin{pmatrix}\n",
    "-1 & 1 & 1 \\\\\n",
    "0 & -2 & -1 \\\\\n",
    "0 & 0 & 6\n",
    "\\end{pmatrix}\n",
    "$$\n",
    "\n",
    "Daraus resultiert dann für die Elemente von $L$:\n",
    "$$\n",
    "\\begin{align*}\n",
    "l_{21} &= \\frac{\\textcolor{red}{1}}{(\\textcolor{blue}{-1})} = -1 \\\\\n",
    "l_{31} &= \\frac{\\textcolor{magenta}{5}}{(\\textcolor{blue}{-1})} = -5 \\\\\n",
    "l_{32} &= \\frac{\\textcolor{cyan}{6}}{(\\textcolor{orange}{-2})} = -3\n",
    "\\end{align*}\n",
    "$$\n",
    "\n",
    "$$\n",
    "\\Rightarrow L = \\begin{pmatrix}\n",
    "1 & 0 & 0 \\\\\n",
    "-1 & 1 & 0 \\\\\n",
    "-5 & -3 & 1\n",
    "\\end{pmatrix}\n",
    "$$\n",
    "\n",
    "Somit sieht der vollständige Term wie folgt aus:\n",
    "$$\n",
    "LR = \\begin{pmatrix}\n",
    "1 & 0 & 0 \\\\\n",
    "-1 & 1 & 0 \\\\\n",
    "-5 & -3 & 1\n",
    "\\end{pmatrix}\n",
    "\\begin{pmatrix}\n",
    "-1 & 1 & 1 \\\\\n",
    "0 & -2 & -1 \\\\\n",
    "0 & 0 & 6\n",
    "\\end{pmatrix}\n",
    "= \\begin{pmatrix}\n",
    "-1 & 1 & 1 \\\\\n",
    "1 & -3 & -2 \\\\\n",
    "5 & 1 & 4\n",
    "\\end{pmatrix}\n",
    "= A\n",
    "$$\n",
    "\n",
    "### LR-Zerlegung mit Zeilenvertauschung / Pivotisierung\n",
    "Begründung, weshalb Pivotisierung notwendig ist, ist äquivalent zur Angabe bezüglich dem Gauss-Algorithmus\n",
    "\n",
    "Um eine Zeilenvertauschung bei einer Matrix durchzuführen kann man mit einer Matrix $P$ von links multiplizieren. Diese Multiplikation führt z.B eine Zeilenvertauschung der 2. und der 4. Zeile aus:\n",
    "<p align=\"center\">\n",
    "<img src=\"assets/LR_Zerlegung_pivotisierung_beispiel1.png\" alt=\"Gauss-Spaltenpivotisierung Beispiel\" width=\"1000\">\n",
    "</p>\n",
    "\n",
    "\n",
    "Um mehrere Zeilenvertauschungen auszuführen, kann man auch mehrere $P$-Matrizen zu einer zusammenmultiplizieren. Das sieht dann wie folgt aus:\n",
    "\n",
    "Hier wird zuerst die 2. und die 4. vertauscht und dann die 1. und 3. Zeile\n",
    "<p align=\"center\">\n",
    "<img src=\"assets/LR_Zerlegung_pivotisierung_beispiel2.png\" alt=\"Gauss-Spaltenpivotisierung Beispiel\" width=\"1000\">\n",
    "</p>\n",
    "\n",
    "Entsprechend folgend ein Beispiel für LR-Zerlegung mit Pivotisierung:\n",
    "\n",
    "<p align=\"center\">\n",
    "<img src=\"assets/LR_Zerlegung_pivotisierung_beispiel3.png\" alt=\"Gauss-Spaltenpivotisierung Beispiel\" width=\"600\">\n",
    "</p>\n",
    "\n",
    "1. Zeilenvertauschung von 1. Zeile mit 3. Zeile in $A$, so dass $a_{31}=6$ das grösste Element auf der Diagonale liegt. $\\Rightarrow P_1$ bildet sich. Danach erste Reihe von L bestimmen und Zeilenumformungen machen\n",
    "<p align=\"center\">\n",
    "<img src=\"assets/LR_Zerlegung_pivotisierung_beispiel4.png\" alt=\"Gauss-Spaltenpivotisierung Beispiel\" width=\"1000\">\n",
    "</p>\n",
    "\n",
    "2. Zeilenvertauschung von 2. Zeile mit 3. Zeile in $A_3^*$, auch in L Zeilen vertauschen. Danach zweite Reihe von L bestimmen\n",
    "<p align=\"center\">\n",
    "<img src=\"assets/LR_Zerlegung_pivotisierung_beispiel5.png\" alt=\"Gauss-Spaltenpivotisierung Beispiel\" width=\"1000\">\n",
    "</p>\n",
    "\n",
    "\n",
    "3. Zeilenvertauschung von 4. Zeile mit 3. Zeile in $A_2^{**}$, auch für L Zeilen vertauschen. Danach dritte Reihe von L bestimmen\n",
    "<p align=\"center\">\n",
    "<img src=\"assets/LR_Zerlegung_pivotisierung_beispiel6.png\" alt=\"Gauss-Spaltenpivotisierung Beispiel\" width=\"1000\">\n",
    "</p>\n",
    "<p align=\"center\">\n",
    "<img src=\"assets/LR_Zerlegung_pivotisierung_beispiel7.png\" alt=\"Gauss-Spaltenpivotisierung Beispiel\" width=\"1000\">\n",
    "</p>\n",
    "\n",
    "Somit erhalten wir folgende Resultate:\n",
    "<p align=\"center\">\n",
    "<img src=\"assets/LR_Zerlegung_pivotisierung_beispiel8.png\" alt=\"Gauss-Spaltenpivotisierung Beispiel\" width=\"1000\">\n",
    "</p>\n",
    "\n",
    "Das Gleichungssystem ist wie folgt aufgebaut\n",
    "\n",
    "$$\\displaylines{Ly=Pb\\\\Rx=y}$$\n",
    "\n",
    "y erhalten wir durch Vorwärtseinsetzen\n",
    "\n",
    "und die gesuchte Lösung x erhalten wir durch Rückwärtseinsetzen"
   ]
  },
  {
   "cell_type": "code",
   "execution_count": null,
   "id": "fa7f493791622760",
   "metadata": {
    "collapsed": false
   },
   "outputs": [],
   "source": [
    "# TODO: Code für LR-Zerlegung"
   ]
  },
  {
   "cell_type": "markdown",
   "id": "8843c5ace783ed75",
   "metadata": {
    "collapsed": false
   },
   "source": [
    "## QR-Zerlegung\n",
    "$\\textcolor{black}{test wert}$\n",
    "$\\textcolor{blue}{test wert}$\n",
    "$\\textcolor{brown}{test wert}$\n",
    "$\\textcolor{cyan}{test wert}$\n",
    "$\\textcolor{gray}{test wert}$\n",
    "$\\textcolor{green}{test wert}$\n",
    "$\\textcolor{magenta}{test wert}$\n",
    "$\\textcolor{orange}{test wert}$\n",
    "$\\textcolor{purple}{test wert}$\n",
    "$\\textcolor{red}{test wert}$\n",
    "$\\textcolor{violet}{test wert}$\n",
    "$\\textcolor{white}{test wert}$ % Wird auf weißem Hintergrund nicht sichtbar sein\n",
    "$\\textcolor{yellow}{test wert}$\n"
   ]
  },
  {
   "cell_type": "markdown",
   "id": "48e0190416b2ef09",
   "metadata": {
    "collapsed": false
   },
   "source": [
    "# Fehlerrechnung bei LGS\n",
    "\n",
    "## Vektornorm\n",
    "Es gibt folgende Vektornormen:$\\mathbf{x}$\n",
    "- 1-Norm, Summennorm - Summe aller Elemente (jeweils im Betrag)\n",
    "  $$\\| x \\|_1 = \\sum_{i=1}^{n} |x_i|$$\n",
    "- 2-Norm, euklidische Norm - Länge des Vektors\n",
    "  $$\\| x \\|_2 = \\sqrt{\\sum_{i=1}^{n} x_i^2}$$\n",
    "- $\\infty$-Norm, Maximumnorm - Das grösste Element (jeweils im Betrag)\n",
    "  $$\\| x \\|_{\\infty} = \\max_{i=1,\\ldots,n} |x_i|$$\n",
    "\n",
    "## Matrixnorm\n",
    "Für quadratische Matrizen gibt es wiederum folgende Normen:\n",
    "- 1-Norm, Spaltensummennorm:\n",
    "  $$\\| A \\|_1 = \\max_{j=1,\\ldots,n} \\sum_{i=1}^{n} |a_{ij}|$$\n",
    "- 2-Norm, Spektralnorm:\n",
    "  Diese Norm verwendet den *Spektralradius* $\\rho$.\n",
    "  $$\\| A \\|_2 = \\sqrt{\\rho(A^{\\mathsf{T}}A)}$$\n",
    "- $\\infty$-Norm, Zeilensummennorm:\n",
    "  $$\\| A \\|_{\\infty} = \\max_{i=1,\\ldots,n} \\sum_{j=1}^{n} |a_{ij}|$$\n",
    "\n",
    "### Code-Beispiele für Norm-Berechnungnen"
   ]
  },
  {
   "cell_type": "code",
   "execution_count": null,
   "outputs": [],
   "source": [
    "# Erste Norm\n",
    "matrix1 = np.array([\n",
    "     [1., 1., 0.], \n",
    "     [3., -5., 2.],  \n",
    "     [1., -1., 3.], \n",
    "    ])\n",
    "\n",
    "vektor1 = np.array([1., 2., 3.])\n",
    "\n",
    "norm1_m = np.linalg.norm(matrix1, 1)\n",
    "norm1_v = np.linalg.norm(vektor1, 1)\n",
    "print(\"Matrix erste:\", norm1_m)\n",
    "print(\"Vektor erste:\", norm1_v)"
   ],
   "metadata": {
    "collapsed": false
   },
   "id": "75630c55234269de"
  },
  {
   "cell_type": "code",
   "execution_count": null,
   "outputs": [],
   "source": [
    "# Zweite Norm\n",
    "matrix2 = np.array([\n",
    "     [1., 1., 0.], \n",
    "     [3., -5., 2.],  \n",
    "     [1., -1., 3.], \n",
    "    ])\n",
    "\n",
    "vektor2 = np.array([1., 2., 3.])\n",
    "\n",
    "norm2_m = np.linalg.norm(matrix2, 2)\n",
    "norm2_v = np.linalg.norm(vektor2, 2)\n",
    "print(\"Matrix zweite:\", norm2_m)\n",
    "print(\"Vektor zweite:\", norm2_v)"
   ],
   "metadata": {
    "collapsed": false
   },
   "id": "ad20423eef25dcd"
  },
  {
   "cell_type": "code",
   "execution_count": null,
   "outputs": [],
   "source": [
    "# Unendliche Norm\n",
    "matrixInf = np.array([\n",
    "     [1., 1., 0.], \n",
    "     [3., -5., 2.],  \n",
    "     [1., -1., 3.], \n",
    "    ])\n",
    "\n",
    "vektorInf = np.array([1., 2., 3.])\n",
    "\n",
    "norm_m = np.linalg.norm(matrixInf, np.inf)\n",
    "norm_v = np.linalg.norm(vektorInf, np.inf)\n",
    "print(\"Matrix unendlich:\", norm_m)\n",
    "print(\"Vektor unendlich:\", norm_v)"
   ],
   "metadata": {
    "collapsed": false
   },
   "id": "d61fa32e5cdfb4b5"
  },
  {
   "cell_type": "markdown",
   "source": [
    "## Abschätzung für fehlerbehaftete Vektoren\n",
    "Es gilt $Ax = b$ und $A\\tilde{x}=\\tilde{b}$. Für den absoluten und den relativen Fehler in $x$ gilt:\n",
    "- **absolut**: $\\| x - \\tilde{x} \\| \\leq \\| A^{-1} \\| \\cdot \\| b - \\tilde{b} \\|$\n",
    "- **relativ**: $\\frac{\\| x - \\tilde{x} \\|}{\\| x \\|} \\leq \\| A \\| \\cdot \\| A^{-1} \\| \\cdot \\frac{\\| b - \\tilde{b} \\|}{\\| b \\|} \\quad \\text{falls} \\quad \\| b \\| \\neq 0$\n",
    "Konditionszahl der Matrix $A$ bez. der verwendeten Norm:\n",
    "$$cond(A)=\\|A\\|\\cdot\\|A^{-1}\\|$$"
   ],
   "metadata": {
    "collapsed": false
   },
   "id": "ca5d67ab4c2f3cd7"
  },
  {
   "cell_type": "code",
   "execution_count": null,
   "outputs": [],
   "source": [
    "# TODO: Code für absoluten, relativen Fehler + Konditionszahl von Matrix"
   ],
   "metadata": {
    "collapsed": false
   },
   "id": "a8e21946a6f7fed8"
  },
  {
   "cell_type": "markdown",
   "source": [
    "## Abschätzung für fehlerbehaftete Matrix\n",
    "Es gilt $Ax=b$ und $\\tilde{A}\\tilde{x}=\\tilde{b}$.<br>Falls\n",
    "$$cond(A) \\cdot \\frac{\\|A - \\tilde{A}\\|}{\\|A\\|} \\lt 1$$\n",
    "dann gilt:\n",
    "$$\\frac{\\| x - \\tilde{x} \\|}{\\| x \\|} \\leq \\frac{\\text{cond}(A)}{1 - \\text{cond}(A) \\cdot \\frac{\\| A - \\tilde{A} \\|}{\\| A \\|}} \\cdot \\left( \\frac{\\| A - \\tilde{A} \\|}{\\| A \\|} + \\frac{\\| b - \\tilde{b} \\|}{\\| b \\|} \\right)\n",
    "$$\n",
    "\n",
    "Wenn $A$ exakt gegeben ist, dann gilt $\\frac{\\|A-\\tilde{A}\\|}{A}  = 0$ und der relative Fehler für $x$ reduziert sich auf den relativen Fehler für Vektoren.\n"
   ],
   "metadata": {
    "collapsed": false
   },
   "id": "174b966b7af66cac"
  },
  {
   "cell_type": "markdown",
   "id": "3c370e60d41725aa",
   "metadata": {
    "collapsed": false
   },
   "source": [
    "# Iterative Verfahren\n",
    "**Warum Iterative Verfahren?**\n",
    "Die direkten Verfahren (Gauss, LR, QR) haben eine Ordnung von $O(n^3)\\Rightarrow$ für grosse LGS gibt das sehr hohe Rechenzeiten. Iterative Verfahren haben eine geringere Ordnung, sind aber ungenauer bzw. man muss beim Verwenden von iterativen Verfahren mit Fehlern bzw. Ungenauigkeit im Ergebnis rechnen.\n",
    "_Grundprinzip:_\n",
    "Ausgehend von Startvektor $x^{(0)}$ wird mit Rechenvorschrift\n",
    "$$F:\\mathbb{R}^n\\rightarrow\\mathbb{R}^n$$\n",
    "iterativ Folge von Vektoren\n",
    "$$x^{k+1} = F(x^{k})\\text{ mit }k=0,1,2,\\cdots$$\n",
    "berechnet, welche gegen die Lösung $x$ für $Ax=b$ konvergieren.\n",
    "\n",
    "Bei den folgenden beiden Verfahren wird $A$ nach diesem Grundprinzip \"gesplittet\":\n",
    "$$A = L + D + R$$\n",
    "Dabei ist $L$ die untere und $R$ die obere Dreiecksmatrix (die diagonalenwerte sind dabei alle 0). Bei $D$ handelt es sich um die Matrix, welche nur die Diagonal-Elemente von $A$ beinhaltet.\n",
    "\n",
    "## Jacobi-Verfahren\n",
    "Auch \"Gesamtschrittverfahren\" genannt.\n",
    "Fixpunktiteration für Jacobi-Verfahren:\n",
    "$$\\begin{align*}\n",
    "Dx^{(k+1)} &= -(L + R)x^{(k)} + b \\text{ bzw.}\\\\\n",
    "x^{(k+1)} &= -D^{-1}(L + R)x^{(k)} + D^{-1}b\n",
    "\\end{align*}\n",
    "\n",
    "$$\n",
    "## Gauss-Seidel-Verfahren\n",
    "Auch \"Einzelschrittverfahren\" genannt.\n",
    "Fixpunktiteration für Gauss-Seidel-Verfahren:\n",
    "$$\n",
    "\\begin{align*}\n",
    "(D + L)x^{(k+1)} &= -Rx^{(k)} + b \\text{ bzw.}\\\\\n",
    "x^{(k+1)} &= -(D + L)^{-1}Rx^{(k)} + (D + L)^{-1}b\n",
    "\\end{align*}\n",
    "\n",
    "$$"
   ]
  },
  {
   "cell_type": "code",
   "execution_count": null,
   "outputs": [],
   "source": [
    "from scripts.kap4.jacobi_gauss_seidel_verfahren import jacobi_gauss_seidel\n",
    "# Beispiel aus Skript S.71\n",
    "A = np.array([\n",
    "    [4, -1, 1],\n",
    "    [-2, 5, 1],\n",
    "    [1, -2, 5]\n",
    "])\n",
    "b = np.array([5, 11, 12])\n",
    "x0 = np.array([0, 0, 0])\n",
    "# TODO: Berechnung von xi berücksichtig tol komisch?\n",
    "xi, actuallyNeededIterations, calculatedNeededIterations = jacobi_gauss_seidel(A, b, x0, 1e-2, False)\n",
    "print('xi: ' + str(xi))\n",
    "print('Tatsächlich benötigte Schritte: ' + str(actuallyNeededIterations))\n",
    "print('Berechnete Anzahl Schritte: ' + str(calculatedNeededIterations))"
   ],
   "metadata": {
    "collapsed": false
   },
   "id": "2bb372ff0e4d13ea"
  },
  {
   "cell_type": "markdown",
   "id": "181205a75e8b4e",
   "metadata": {
    "collapsed": false
   },
   "source": [
    "# Eigenwerte und Eigenvektoren\n",
    "\n",
    "## Komplexe Zahlen\n",
    "Normalform\n",
    "$$z = x + i*y$$\n",
    "Trigonometrische Form\n",
    "$$tan(\\varphi) = y/x$$\n",
    "$$x = r* cos(\\varphi)$$\n",
    "$$y = r * sin(\\varphi)$$"
   ]
  },
  {
   "cell_type": "markdown",
   "id": "1bd54553e6b0ed12",
   "metadata": {
    "collapsed": false
   },
   "source": [
    "# "
   ]
  },
  {
   "cell_type": "code",
   "execution_count": null,
   "outputs": [],
   "source": [
    "import math\n",
    "\n",
    "x = 2\n",
    "y = 5\n",
    "complex_number = complex(x, y)\n",
    "radius = abs(complex_number)\n",
    "\n",
    "winkel = math.atan(y/x)\n",
    "if winkel < 0:\n",
    "    winkel = 2*np.pi + winkel\n",
    "    \n",
    "winkel_deg = math.degrees(winkel)\n",
    "\n",
    "\n",
    "\n",
    "trig_form = f'{radius} * (cos({winkel}) + i * sin({winkel}))'\n",
    "exp_form = f'{radius} * e^({winkel}i)'\n",
    "print('Normalform: ', complex_number)\n",
    "print('Radius: ', radius)\n",
    "print('Winkel in Grad: ', winkel_deg)\n",
    "print('Winkel in Rad: ', winkel)\n",
    "print('Trigonometrische Form: ', trig_form)\n",
    "print('Exponential Form: ', exp_form)"
   ],
   "metadata": {
    "collapsed": false
   },
   "id": "e6f5990c2bfec6c2"
  },
  {
   "cell_type": "markdown",
   "source": [
    "### Exponentialform oder Trigonometrische Form in Normalform umwandeln"
   ],
   "metadata": {
    "collapsed": false
   },
   "id": "d827f97e9bbb4b85"
  },
  {
   "cell_type": "code",
   "execution_count": null,
   "outputs": [],
   "source": [
    "import math\n",
    "\n",
    "radius = 11.4017\n",
    "winkel = 4.9786\n",
    "winkel_deg = math.degrees(winkel)\n",
    "\n",
    "x = radius * math.cos(winkel)\n",
    "y = radius * math.sin(winkel)\n",
    "\n",
    "trig_form = f'{radius} * (cos({winkel}) + i * sin({winkel}))'\n",
    "exp_form = f'{radius} * e^({winkel}i)'\n",
    "print('Radius: ', radius)\n",
    "print('Winkel in Rad: ', winkel)\n",
    "print('Winkel in Grad: ', winkel_deg)\n",
    "print('Trigonometrische Form: ', trig_form)\n",
    "print('Normalform: ', complex(x, y))\n",
    "print('Exponential Form: ', exp_form)"
   ],
   "metadata": {
    "collapsed": false
   },
   "id": "71244619d1283ff"
  },
  {
   "cell_type": "markdown",
   "source": [
    "### Visualisierung von komplexer Zahl"
   ],
   "metadata": {
    "collapsed": false
   },
   "id": "3190d22be8752795"
  },
  {
   "cell_type": "code",
   "execution_count": null,
   "outputs": [],
   "source": [
    "import cmath\n",
    "import matplotlib.pyplot as plt\n",
    "\n",
    "z = 3 - 11j\n",
    "\n",
    "# Extrahiere Real- und Imaginärteile von z\n",
    "z_real = z.real\n",
    "z_imag = z.imag\n",
    "\n",
    "# Plotten eines Pfeils von Null bis zur komplexen Zahl z\n",
    "plt.figure(figsize=(8, 8))\n",
    "\n",
    "# Plotten der komplexen Zahl z\n",
    "plt.text(z_real + 0.2, z_imag + 0.2, 'z', fontsize=10)\n",
    "\n",
    "# Plotten des Pfeils von Null bis z\n",
    "plt.plot([0, z_real], [0, z_imag], color='blue')\n",
    "\n",
    "# Plotten der Hilfslinien\n",
    "plt.plot([z_real, z_real], [0, z_imag], color='blue', linestyle='--')\n",
    "\n",
    "# Plotten des Ursprungs\n",
    "plt.scatter(0, 0, color='red')\n",
    "plt.text(0.1, 0.1, '(0,0)', fontsize=10)\n",
    "\n",
    "# Beschriftungen und Titel\n",
    "plt.xlabel('Re(z)')\n",
    "plt.ylabel('Im(z)')\n",
    "plt.title('Pfeil von Null bis zu einem bestimmten Punkt z im Koordinatensystem')\n",
    "\n",
    "# Anzeigen des Plots\n",
    "plt.xlim(-5, 5)\n",
    "plt.ylim(-15, 15)\n",
    "\n",
    "# Anzeigen des Gitters und der Achsen\n",
    "plt.axhline(0, color='black', linewidth=0.05)\n",
    "plt.axvline(0, color='black', linewidth=0.05)\n",
    "plt.grid()\n",
    "\n",
    "# Anzeigen des Plots\n",
    "plt.show()"
   ],
   "metadata": {
    "collapsed": false
   },
   "id": "a486f8ee9a626ef3"
  }
 ],
 "metadata": {
  "kernelspec": {
   "display_name": "Python 3",
   "language": "python",
   "name": "python3"
  },
  "language_info": {
   "codemirror_mode": {
    "name": "ipython",
    "version": 3
   },
   "file_extension": ".py",
   "mimetype": "text/x-python",
   "name": "python",
   "nbconvert_exporter": "python",
   "pygments_lexer": "ipython3",
   "version": "3.11.5"
  }
 },
 "nbformat": 4,
 "nbformat_minor": 5
}
