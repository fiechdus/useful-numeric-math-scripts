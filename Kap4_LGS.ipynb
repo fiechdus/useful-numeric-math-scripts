{
 "cells": [
  {
   "cell_type": "markdown",
   "id": "68cde0622787367c",
   "metadata": {
    "collapsed": false
   },
   "source": [
    "# Setup - Execute First!\n",
    "Den untenstehenden Codeblock unbedingt zu Beginn ausführen!\n",
    "Dies ist nötig, damit andere Teile des Notebooks korrekt funktionieren."
   ]
  },
  {
   "cell_type": "code",
   "execution_count": null,
   "id": "6f471897285f6f6c",
   "metadata": {
    "collapsed": false
   },
   "outputs": [],
   "source": [
    "# Setup\n",
    "import numpy as np\n",
    "import scipy as sci\n",
    "import matplotlib.pyplot as plt\n",
    "\n",
    "# Aktivieren von autom. Neuladen von externen Skripten (verhindert Caching-Probleme).\n",
    "%load_ext autoreload\n",
    "%autoreload 2"
   ]
  },
  {
   "cell_type": "markdown",
   "id": "cf76ad9db8677434",
   "metadata": {
    "collapsed": false
   },
   "source": [
    "# Allgemein / Useful\n",
    "1. Matrix-Berechnung mit Brüchen\n",
    "2. Determinanten-Berechnung\n",
    "3. Polynom-Berechnungen"
   ]
  },
  {
   "cell_type": "markdown",
   "id": "75a36417b2216d8d",
   "metadata": {
    "collapsed": false
   },
   "source": [
    "## 1. Matrix-Berechnung mit Brüchen"
   ]
  },
  {
   "cell_type": "code",
   "execution_count": null,
   "id": "45aa974724e1d7e6",
   "metadata": {
    "collapsed": false
   },
   "outputs": [],
   "source": [
    "from scripts.matrix_berechnung_mit_bruechen import matrix_frac\n",
    "\n",
    "A = np.array([\n",
    "    [1, 2, 3],\n",
    "    [4, 5, 6],\n",
    "    [7, 8, 9]\n",
    "])\n",
    "\n",
    "result = matrix_frac(A / 3)\n",
    "print(result)"
   ]
  },
  {
   "cell_type": "markdown",
   "id": "8046e3f9589cdbd9",
   "metadata": {
    "collapsed": false
   },
   "source": [
    "## 2. Determinanten-Berechnung\n"
   ]
  },
  {
   "cell_type": "code",
   "execution_count": null,
   "id": "89c056d90d2260f0",
   "metadata": {
    "collapsed": false
   },
   "outputs": [],
   "source": [
    "A = np.array([\n",
    "    [3, 3, 3],\n",
    "    [1, 0, 4],\n",
    "    [8, 9, 2]\n",
    "])\n",
    "det = np.linalg.det(A)\n",
    "print(det)\n",
    "# Validieren mit: https://matrixcalc.org/de/#determinant%28%7B%7B3,3,3%7D,%7B1,0,4%7D,%7B8,9,2%7D%7D%29"
   ]
  },
  {
   "cell_type": "markdown",
   "id": "95c4b2c711c58958",
   "metadata": {
    "collapsed": false
   },
   "source": [
    "## 3. Polynome (das Wichtigste)"
   ]
  },
  {
   "cell_type": "code",
   "execution_count": null,
   "id": "6dcecc1abcf76f01",
   "metadata": {
    "collapsed": false
   },
   "outputs": [],
   "source": [
    "# Polynom definieren:\n",
    "polynom_koeffizienten = np.array([1, 2, 3]) # 1x^2 + 2x + 3\n",
    "\n",
    "# Polynom-Wertberechnung:\n",
    "print(\"Berechneter Wert:\" + str(np.polyval(polynom_koeffizienten, 5)))\n",
    "\n",
    "# Nullstellen:\n",
    "polynom_koeffizienten = np.array([2, 3, 1])\n",
    "print(\"Nullstellen:\" + str(np.roots(polynom_koeffizienten)))\n",
    "\n",
    "# Arithmetik;\n",
    "p1 = np.array([2, 3, 5])\n",
    "p2 = np.array([1, 4])\n",
    "print(\"Arithmetik:\" + str(np.polyadd(p1, p2))) # or polysub, polymul, polydiv\n",
    "\n",
    "# Fitting:\n",
    "x = np.array([1, 2, 3])\n",
    "y = np.array([4, 5, 6])\n",
    "print(\"Fitting:\" + str(np.polyfit(x, y, 2)))\n",
    "\n",
    "# Ableiten und Integrieren:\n",
    "print(\"Ableiten:\" + str(np.polyder(polynom_koeffizienten)))\n",
    "print(\"Integrieren:\" + str(np.polyint(polynom_koeffizienten)))"
   ]
  },
  {
   "cell_type": "markdown",
   "id": "899fba0d5d9b8fd6",
   "metadata": {
    "collapsed": false
   },
   "source": [
    "# Problemstellung\n",
    "Man hat ein lineares Gleichungssystem mit $n$ Gleichungen und $n$ Unbekannten.\n",
    "$$Ax=b$$\n",
    "\n",
    "## Untere (normierte) Dreiecksmatrix\n",
    "<img src=\"assets/untere_normierte_dreiecksmatrix.png\" alt=\"Untere normierte Dreiecksmatrix\" width=\"800\">\n",
    "\n",
    "## Obere Dreiecksmatrix\n",
    "Wichtige Information: Im Englischen wird die obere Dreiecksmatrix (deutsch: R für \"rechts\") als \"U\" bezeichnet. Dies da in Englisch die Rede von Lower und Upper Matrix ist, statt wie im Deutschen Linke und Rechte Matrix.<br>\n",
    "<img src=\"assets/obere_dreiecksmatrix.png\" alt=\"Obere Dreiecksmatrix\" width=\"800\">"
   ]
  },
  {
   "cell_type": "markdown",
   "id": "d4717fc14d2b08d7",
   "metadata": {
    "collapsed": false
   },
   "source": [
    "# Gauss-Algorithmus\n",
    "Grundidee bei diesem Algorithmus ist es, die Matrix $A$ und den Vektor $b$ so umzuwandeln, dass die Gleichung $Ax=b\\Rightarrow\\tilde{A}x=\\tilde{b}$ entsteht. Ziel ist es, dass $\\tilde{A}$ dann als obere Dreiecksmatrix vorhanden ist.\n",
    "$$\n",
    "A =\n",
    "\\begin{pmatrix}\n",
    "a_{11} & a_{12} & a_{13} & \\cdots & a_{1n} \\\\\n",
    "0 & a_{22} & a_{23} & \\cdots & a_{2n} \\\\\n",
    "0 & 0 & a_{33} & \\cdots & a_{3n} \\\\\n",
    "\\vdots & \\vdots & \\vdots & \\ddots & \\vdots \\\\\n",
    "0 & 0 & 0 & \\cdots & a_{nn}\n",
    "\\end{pmatrix}\n",
    "$$\n",
    "\n",
    "Vorgehen:\n",
    "1. Vorwärtselimination\n",
    "  Matrix in _obere Dreiecksmatrix_ Form bringen.\n",
    "  Rechenregeln:\n",
    "    - Zeilen dürfen beliebig vertauscht werden (A & b). Ziel ist aber, dass Zeilen mit (links-)führenden Nullen nie oberhalb einer Zeile sind, bei welche keine führende Null hat oder eine, bei der die Null weiter links liegt.\n",
    "    - Addition/Subtraktion: Zeilen dürfen (multipliziert mit Konstante $c$) zu anderen Zeilen addiert oder subtrahiert werden. \n",
    "2. Rückwertseinsetzen\n",
    "  von unten nach oben alle Elemente von $x$ bestimmen.\n",
    "$$\n",
    "x_n = \\frac{b_n}{a_{nn}}, \\quad x_{n-1} = \\frac{b_{n-1} - a_{n-1,n}x_n}{a_{n-1,n-1}}, \\quad \\ldots, \\quad x_1 = \\frac{b_1 - a_{12}x_2 - \\cdots - a_{1n}x_n}{a_{11}}\n",
    "$$\n",
    "Rückwärtseinsetzen, kompatt geschrieben:\n",
    "$$\n",
    "x_i = \\frac{b_i - \\sum_{j=i+1}^{n} a_{ij}x_j}{a_{ii}}, \\quad i = n, n-1, \\ldots, 1.\n",
    "$$\n",
    "\n"
   ]
  },
  {
   "cell_type": "markdown",
   "id": "f5ce04116708d1fb",
   "metadata": {
    "collapsed": false
   },
   "source": [
    "# Fehlerfortpflanzung bei Gauss-Algorithmus und Pivotisierung\n",
    "Beim normelen Gauss-Algorithmus werden Zeilen nur vertauscht, wenn während Berechnungen ein Diagonalelement zu Null wurde. **Zeilenvertauschungen können aber auch dazu verwendet werden, um Fehler z.B. durch Gleitpunktoperationen, uz minimieren**.\n",
    "Gauss-Eliminationsfaktor: $\\lambda = \\frac{a_{ji}}{a_{ii}}$\n",
    "Optimaler-Eliminationsbedingung: $|\\lambda| = |\\frac{a_{ji}}{a_{ii}}| \\lt 1$ \n",
    "$\\Rightarrow$ Um den Fehler möglichst klein zu behalten wird also vor jedem Eliminationsschrit überprüft, welches Element in der Spalte betragsmässig am grössten ist. Dieses Spaltenelement sollte anschliessend durch Vertauschen zuoberst sein. Man nennt dies **Spaltenpivotisierung**.\n",
    "\n",
    "## Beispiel\n",
    "$$\n",
    "A = \n",
    "\\begin{pmatrix}\n",
    "1 & 2 & -1 \\\\\n",
    "4 & -2 & 6 \\\\\n",
    "3 & 1 & 0\n",
    "\\end{pmatrix}\n",
    "$$\n",
    "Entsprechende Spaltenpivotisierung (rot):\n",
    "<img src=\"assets/gauss-spalterpivotisierung_beispiel.jpg\" alt=\"Gauss-Spaltenpivotisierung Beispiel\" width=\"800\">"
   ]
  },
  {
   "cell_type": "markdown",
   "id": "5efeb9704da52e96",
   "metadata": {
    "collapsed": false
   },
   "source": [
    "# Dreieckzerlegung von Matrizen\n",
    "## LR-Zerlegung\n",
    "Matrix $A$ wird in ein Produkt von zwei Matrizen $L$ und $R$ zerlegt (Vektor $b$ bleibt also unverändert), also $A=LR$.\n",
    "- $L$: untere **normierte** Dreiecksmatrix\n",
    "- $R$: obere Dreiecksmatrix\n",
    "Das Zerlegen von $A=LR$ kann auch als $LR$-Faktorisierung bezeichnet werden.\n",
    "$$Ax=b$$\n",
    "wird somit zu\n",
    "$$LRx = b\\Leftrightarrow Ly = b \\text{ und }Rx = y$$\n",
    "\n",
    "Für das Rückwärtseinsetzen wiederum gilt:\n",
    "$$Ax = LRx = Ly = b$$\n",
    "\n",
    "Bemerkungen:\n",
    "- $R$ ist durch Gauss-Algorithmus entstandene Matrix\n",
    "- Elemente $l_{ji}$ in $L$ entsprechen den berechneten Faktoren $\\lambda$ den Eliminationsschritten für Gauss $z_j := z_j - \\lambda_{ji}z_i$ also $l_{ji} = \\lambda_{ji}$\n",
    "\n",
    "### Beispiel aus Skript\n",
    "$$\n",
    "A = \\begin{pmatrix}\n",
    "\\textcolor{blue}{-1} & 1 & 1 \\\\\n",
    "\\textcolor{red}{1} & -3 & -2 \\\\\n",
    "5 & 1 & 4\n",
    "\\end{pmatrix}\n",
    "$$\n",
    "$$\n",
    "\\begin{align*}\n",
    "i &= 1, j = 2 \\Rightarrow z_2 & = z_2 - \\frac{\\textcolor{red}{1}}{\\textcolor{blue}{-1}}z_1 \\Rightarrow A_1 &= \\begin{pmatrix}\n",
    "\\textcolor{blue}{-1} & 1 & 1 \\\\\n",
    "0 & -2 & -1 \\\\\n",
    "\\textcolor{magenta}{5} & 1 & 4\n",
    "\\end{pmatrix} \\\\\n",
    "i &= 1, j = 3 \\Rightarrow z_3 & = z_3 - \\frac{\\textcolor{magenta}{5}}{\\textcolor{blue}{-1}}z_1 \\Rightarrow A_2 &= \\begin{pmatrix}\n",
    "-1 & 1 & 1 \\\\\n",
    "0 & \\textcolor{orange}{-2} & -1 \\\\\n",
    "0 & \\textcolor{cyan}{6} & 9\n",
    "\\end{pmatrix} \\\\\n",
    "i &= 2, j = 3 \\Rightarrow z_3 & = z_3 - \\frac{\\textcolor{cyan}{6}}{\\textcolor{orange}{-2}}z_2 \\Rightarrow A_3 &= \\begin{pmatrix}\n",
    "-1 & 1 & 1 \\\\\n",
    "0 & -2 & -1 \\\\\n",
    "0 & 0 & 6\n",
    "\\end{pmatrix} = R\n",
    "\\end{align*}\n",
    "$$\n",
    "\n",
    "$$\n",
    "R = A_3 = \\begin{pmatrix}\n",
    "-1 & 1 & 1 \\\\\n",
    "0 & -2 & -1 \\\\\n",
    "0 & 0 & 6\n",
    "\\end{pmatrix}\n",
    "$$\n",
    "\n",
    "Daraus resultiert dann für die Elemente von $L$:\n",
    "$$\n",
    "\\begin{align*}\n",
    "l_{21} &= \\frac{\\textcolor{red}{1}}{(\\textcolor{blue}{-1})} = -1 \\\\\n",
    "l_{31} &= \\frac{\\textcolor{magenta}{5}}{(\\textcolor{blue}{-1})} = -5 \\\\\n",
    "l_{32} &= \\frac{\\textcolor{cyan}{6}}{(\\textcolor{orange}{-2})} = -3\n",
    "\\end{align*}\n",
    "$$\n",
    "\n",
    "$$\n",
    "\\Rightarrow L = \\begin{pmatrix}\n",
    "1 & 0 & 0 \\\\\n",
    "-1 & 1 & 0 \\\\\n",
    "-5 & -3 & 1\n",
    "\\end{pmatrix}\n",
    "$$\n",
    "\n",
    "Somit sieht der vollständige Term wie folgt aus:\n",
    "$$\n",
    "LR = \\begin{pmatrix}\n",
    "1 & 0 & 0 \\\\\n",
    "-1 & 1 & 0 \\\\\n",
    "-5 & -3 & 1\n",
    "\\end{pmatrix}\n",
    "\\begin{pmatrix}\n",
    "-1 & 1 & 1 \\\\\n",
    "0 & -2 & -1 \\\\\n",
    "0 & 0 & 6\n",
    "\\end{pmatrix}\n",
    "= \\begin{pmatrix}\n",
    "-1 & 1 & 1 \\\\\n",
    "1 & -3 & -2 \\\\\n",
    "5 & 1 & 4\n",
    "\\end{pmatrix}\n",
    "= A\n",
    "$$\n",
    "\n",
    "### LR-Zerlegung mit Zeilenvertauschung / Pivotisierung\n"
   ]
  },
  {
   "cell_type": "code",
   "execution_count": null,
   "id": "fa7f493791622760",
   "metadata": {
    "collapsed": false
   },
   "outputs": [],
   "source": [
    "# TODO: Code für LR-Zerlegung"
   ]
  },
  {
   "cell_type": "markdown",
   "id": "8843c5ace783ed75",
   "metadata": {
    "collapsed": false
   },
   "source": [
    "## QR-Zerlegung\n",
    "$\\textcolor{black}{test wert}$\n",
    "$\\textcolor{blue}{test wert}$\n",
    "$\\textcolor{brown}{test wert}$\n",
    "$\\textcolor{cyan}{test wert}$\n",
    "$\\textcolor{gray}{test wert}$\n",
    "$\\textcolor{green}{test wert}$\n",
    "$\\textcolor{magenta}{test wert}$\n",
    "$\\textcolor{orange}{test wert}$\n",
    "$\\textcolor{purple}{test wert}$\n",
    "$\\textcolor{red}{test wert}$\n",
    "$\\textcolor{violet}{test wert}$\n",
    "$\\textcolor{white}{test wert}$ % Wird auf weißem Hintergrund nicht sichtbar sein\n",
    "$\\textcolor{yellow}{test wert}$\n"
   ]
  },
  {
   "cell_type": "markdown",
   "id": "48e0190416b2ef09",
   "metadata": {
    "collapsed": false
   },
   "source": [
    "# Fehlerberechnung und Aufwandabschätzung\n",
    "## Fehlerrechnung bei LGS\n",
    "\n",
    "### Vektornorm\n",
    "Es gibt folgende Vektornormen:\n",
    "- 1-Norm, Summennorm\n",
    "  $$||x||_1 = $$\n",
    "- 2-Norm, euklidische Norm\n",
    "- $\\infty$-Norm, Maximumnorm"
   ]
  },
  {
   "cell_type": "markdown",
   "id": "3c370e60d41725aa",
   "metadata": {
    "collapsed": false
   },
   "source": [
    "# Iterative Verfahren\n",
    "## Jacobi-Verfahren\n",
    "## Gauss-Seidel-Verfahren\n",
    "Auch \"Einzelschrittverfahren\" genannt."
   ]
  },
  {
   "cell_type": "markdown",
   "id": "181205a75e8b4e",
   "metadata": {
    "collapsed": false
   },
   "source": [
    "# Eigenwerte und Eigenvektoren\n"
   ]
  },
  {
   "cell_type": "markdown",
   "id": "1bd54553e6b0ed12",
   "metadata": {
    "collapsed": false
   },
   "source": [
    "# "
   ]
  },
  {
   "cell_type": "code",
   "execution_count": null,
   "id": "36bee154818e7b8f",
   "metadata": {
    "collapsed": false
   },
   "outputs": [],
   "source": []
  }
 ],
 "metadata": {
  "kernelspec": {
   "display_name": "Python 3",
   "language": "python",
   "name": "python3"
  },
  "language_info": {
   "codemirror_mode": {
    "name": "ipython",
    "version": 3
   },
   "file_extension": ".py",
   "mimetype": "text/x-python",
   "name": "python",
   "nbconvert_exporter": "python",
   "pygments_lexer": "ipython3",
   "version": "3.11.5"
  }
 },
 "nbformat": 4,
 "nbformat_minor": 5
}
